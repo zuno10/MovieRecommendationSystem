{
 "cells": [
  {
   "cell_type": "markdown",
   "metadata": {},
   "source": [
    "# Movie Recommendation content Based System"
   ]
  },
  {
   "cell_type": "code",
   "execution_count": 2,
   "metadata": {},
   "outputs": [],
   "source": [
    "import pandas as pd\n",
    "import numpy as np\n",
    "from warnings import filterwarnings\n",
    "filterwarnings('ignore')"
   ]
  },
  {
   "cell_type": "code",
   "execution_count": 3,
   "metadata": {},
   "outputs": [
    {
     "data": {
      "text/html": [
       "<div>\n",
       "<style scoped>\n",
       "    .dataframe tbody tr th:only-of-type {\n",
       "        vertical-align: middle;\n",
       "    }\n",
       "\n",
       "    .dataframe tbody tr th {\n",
       "        vertical-align: top;\n",
       "    }\n",
       "\n",
       "    .dataframe thead th {\n",
       "        text-align: right;\n",
       "    }\n",
       "</style>\n",
       "<table border=\"1\" class=\"dataframe\">\n",
       "  <thead>\n",
       "    <tr style=\"text-align: right;\">\n",
       "      <th></th>\n",
       "      <th>movie_id</th>\n",
       "      <th>title</th>\n",
       "      <th>cast</th>\n",
       "      <th>crew</th>\n",
       "    </tr>\n",
       "  </thead>\n",
       "  <tbody>\n",
       "    <tr>\n",
       "      <th>0</th>\n",
       "      <td>19995</td>\n",
       "      <td>Avatar</td>\n",
       "      <td>[{\"cast_id\": 242, \"character\": \"Jake Sully\", \"...</td>\n",
       "      <td>[{\"credit_id\": \"52fe48009251416c750aca23\", \"de...</td>\n",
       "    </tr>\n",
       "    <tr>\n",
       "      <th>1</th>\n",
       "      <td>285</td>\n",
       "      <td>Pirates of the Caribbean: At World's End</td>\n",
       "      <td>[{\"cast_id\": 4, \"character\": \"Captain Jack Spa...</td>\n",
       "      <td>[{\"credit_id\": \"52fe4232c3a36847f800b579\", \"de...</td>\n",
       "    </tr>\n",
       "    <tr>\n",
       "      <th>2</th>\n",
       "      <td>206647</td>\n",
       "      <td>Spectre</td>\n",
       "      <td>[{\"cast_id\": 1, \"character\": \"James Bond\", \"cr...</td>\n",
       "      <td>[{\"credit_id\": \"54805967c3a36829b5002c41\", \"de...</td>\n",
       "    </tr>\n",
       "    <tr>\n",
       "      <th>3</th>\n",
       "      <td>49026</td>\n",
       "      <td>The Dark Knight Rises</td>\n",
       "      <td>[{\"cast_id\": 2, \"character\": \"Bruce Wayne / Ba...</td>\n",
       "      <td>[{\"credit_id\": \"52fe4781c3a36847f81398c3\", \"de...</td>\n",
       "    </tr>\n",
       "    <tr>\n",
       "      <th>4</th>\n",
       "      <td>49529</td>\n",
       "      <td>John Carter</td>\n",
       "      <td>[{\"cast_id\": 5, \"character\": \"John Carter\", \"c...</td>\n",
       "      <td>[{\"credit_id\": \"52fe479ac3a36847f813eaa3\", \"de...</td>\n",
       "    </tr>\n",
       "  </tbody>\n",
       "</table>\n",
       "</div>"
      ],
      "text/plain": [
       "   movie_id                                     title  \\\n",
       "0     19995                                    Avatar   \n",
       "1       285  Pirates of the Caribbean: At World's End   \n",
       "2    206647                                   Spectre   \n",
       "3     49026                     The Dark Knight Rises   \n",
       "4     49529                               John Carter   \n",
       "\n",
       "                                                cast  \\\n",
       "0  [{\"cast_id\": 242, \"character\": \"Jake Sully\", \"...   \n",
       "1  [{\"cast_id\": 4, \"character\": \"Captain Jack Spa...   \n",
       "2  [{\"cast_id\": 1, \"character\": \"James Bond\", \"cr...   \n",
       "3  [{\"cast_id\": 2, \"character\": \"Bruce Wayne / Ba...   \n",
       "4  [{\"cast_id\": 5, \"character\": \"John Carter\", \"c...   \n",
       "\n",
       "                                                crew  \n",
       "0  [{\"credit_id\": \"52fe48009251416c750aca23\", \"de...  \n",
       "1  [{\"credit_id\": \"52fe4232c3a36847f800b579\", \"de...  \n",
       "2  [{\"credit_id\": \"54805967c3a36829b5002c41\", \"de...  \n",
       "3  [{\"credit_id\": \"52fe4781c3a36847f81398c3\", \"de...  \n",
       "4  [{\"credit_id\": \"52fe479ac3a36847f813eaa3\", \"de...  "
      ]
     },
     "execution_count": 3,
     "metadata": {},
     "output_type": "execute_result"
    }
   ],
   "source": [
    "credits= pd.read_csv('tmdb_5000_credits.csv')\n",
    "movies= pd.read_csv('tmdb_5000_movies.csv')\n",
    "credits.head()"
   ]
  },
  {
   "cell_type": "code",
   "execution_count": 4,
   "metadata": {},
   "outputs": [
    {
     "data": {
      "text/plain": [
       "((4803, 20), (4803, 4))"
      ]
     },
     "execution_count": 4,
     "metadata": {},
     "output_type": "execute_result"
    }
   ],
   "source": [
    "movies.shape,credits.shape"
   ]
  },
  {
   "cell_type": "code",
   "execution_count": 5,
   "metadata": {},
   "outputs": [
    {
     "data": {
      "text/html": [
       "<div>\n",
       "<style scoped>\n",
       "    .dataframe tbody tr th:only-of-type {\n",
       "        vertical-align: middle;\n",
       "    }\n",
       "\n",
       "    .dataframe tbody tr th {\n",
       "        vertical-align: top;\n",
       "    }\n",
       "\n",
       "    .dataframe thead th {\n",
       "        text-align: right;\n",
       "    }\n",
       "</style>\n",
       "<table border=\"1\" class=\"dataframe\">\n",
       "  <thead>\n",
       "    <tr style=\"text-align: right;\">\n",
       "      <th></th>\n",
       "      <th>budget</th>\n",
       "      <th>genres</th>\n",
       "      <th>homepage</th>\n",
       "      <th>id</th>\n",
       "      <th>keywords</th>\n",
       "      <th>original_language</th>\n",
       "      <th>original_title</th>\n",
       "      <th>overview</th>\n",
       "      <th>popularity</th>\n",
       "      <th>production_companies</th>\n",
       "      <th>production_countries</th>\n",
       "      <th>release_date</th>\n",
       "      <th>revenue</th>\n",
       "      <th>runtime</th>\n",
       "      <th>spoken_languages</th>\n",
       "      <th>status</th>\n",
       "      <th>tagline</th>\n",
       "      <th>title</th>\n",
       "      <th>vote_average</th>\n",
       "      <th>vote_count</th>\n",
       "    </tr>\n",
       "  </thead>\n",
       "  <tbody>\n",
       "    <tr>\n",
       "      <th>0</th>\n",
       "      <td>237000000</td>\n",
       "      <td>[{\"id\": 28, \"name\": \"Action\"}, {\"id\": 12, \"nam...</td>\n",
       "      <td>http://www.avatarmovie.com/</td>\n",
       "      <td>19995</td>\n",
       "      <td>[{\"id\": 1463, \"name\": \"culture clash\"}, {\"id\":...</td>\n",
       "      <td>en</td>\n",
       "      <td>Avatar</td>\n",
       "      <td>In the 22nd century, a paraplegic Marine is di...</td>\n",
       "      <td>150.437577</td>\n",
       "      <td>[{\"name\": \"Ingenious Film Partners\", \"id\": 289...</td>\n",
       "      <td>[{\"iso_3166_1\": \"US\", \"name\": \"United States o...</td>\n",
       "      <td>2009-12-10</td>\n",
       "      <td>2787965087</td>\n",
       "      <td>162.0</td>\n",
       "      <td>[{\"iso_639_1\": \"en\", \"name\": \"English\"}, {\"iso...</td>\n",
       "      <td>Released</td>\n",
       "      <td>Enter the World of Pandora.</td>\n",
       "      <td>Avatar</td>\n",
       "      <td>7.2</td>\n",
       "      <td>11800</td>\n",
       "    </tr>\n",
       "    <tr>\n",
       "      <th>1</th>\n",
       "      <td>300000000</td>\n",
       "      <td>[{\"id\": 12, \"name\": \"Adventure\"}, {\"id\": 14, \"...</td>\n",
       "      <td>http://disney.go.com/disneypictures/pirates/</td>\n",
       "      <td>285</td>\n",
       "      <td>[{\"id\": 270, \"name\": \"ocean\"}, {\"id\": 726, \"na...</td>\n",
       "      <td>en</td>\n",
       "      <td>Pirates of the Caribbean: At World's End</td>\n",
       "      <td>Captain Barbossa, long believed to be dead, ha...</td>\n",
       "      <td>139.082615</td>\n",
       "      <td>[{\"name\": \"Walt Disney Pictures\", \"id\": 2}, {\"...</td>\n",
       "      <td>[{\"iso_3166_1\": \"US\", \"name\": \"United States o...</td>\n",
       "      <td>2007-05-19</td>\n",
       "      <td>961000000</td>\n",
       "      <td>169.0</td>\n",
       "      <td>[{\"iso_639_1\": \"en\", \"name\": \"English\"}]</td>\n",
       "      <td>Released</td>\n",
       "      <td>At the end of the world, the adventure begins.</td>\n",
       "      <td>Pirates of the Caribbean: At World's End</td>\n",
       "      <td>6.9</td>\n",
       "      <td>4500</td>\n",
       "    </tr>\n",
       "    <tr>\n",
       "      <th>2</th>\n",
       "      <td>245000000</td>\n",
       "      <td>[{\"id\": 28, \"name\": \"Action\"}, {\"id\": 12, \"nam...</td>\n",
       "      <td>http://www.sonypictures.com/movies/spectre/</td>\n",
       "      <td>206647</td>\n",
       "      <td>[{\"id\": 470, \"name\": \"spy\"}, {\"id\": 818, \"name...</td>\n",
       "      <td>en</td>\n",
       "      <td>Spectre</td>\n",
       "      <td>A cryptic message from Bond’s past sends him o...</td>\n",
       "      <td>107.376788</td>\n",
       "      <td>[{\"name\": \"Columbia Pictures\", \"id\": 5}, {\"nam...</td>\n",
       "      <td>[{\"iso_3166_1\": \"GB\", \"name\": \"United Kingdom\"...</td>\n",
       "      <td>2015-10-26</td>\n",
       "      <td>880674609</td>\n",
       "      <td>148.0</td>\n",
       "      <td>[{\"iso_639_1\": \"fr\", \"name\": \"Fran\\u00e7ais\"},...</td>\n",
       "      <td>Released</td>\n",
       "      <td>A Plan No One Escapes</td>\n",
       "      <td>Spectre</td>\n",
       "      <td>6.3</td>\n",
       "      <td>4466</td>\n",
       "    </tr>\n",
       "    <tr>\n",
       "      <th>3</th>\n",
       "      <td>250000000</td>\n",
       "      <td>[{\"id\": 28, \"name\": \"Action\"}, {\"id\": 80, \"nam...</td>\n",
       "      <td>http://www.thedarkknightrises.com/</td>\n",
       "      <td>49026</td>\n",
       "      <td>[{\"id\": 849, \"name\": \"dc comics\"}, {\"id\": 853,...</td>\n",
       "      <td>en</td>\n",
       "      <td>The Dark Knight Rises</td>\n",
       "      <td>Following the death of District Attorney Harve...</td>\n",
       "      <td>112.312950</td>\n",
       "      <td>[{\"name\": \"Legendary Pictures\", \"id\": 923}, {\"...</td>\n",
       "      <td>[{\"iso_3166_1\": \"US\", \"name\": \"United States o...</td>\n",
       "      <td>2012-07-16</td>\n",
       "      <td>1084939099</td>\n",
       "      <td>165.0</td>\n",
       "      <td>[{\"iso_639_1\": \"en\", \"name\": \"English\"}]</td>\n",
       "      <td>Released</td>\n",
       "      <td>The Legend Ends</td>\n",
       "      <td>The Dark Knight Rises</td>\n",
       "      <td>7.6</td>\n",
       "      <td>9106</td>\n",
       "    </tr>\n",
       "    <tr>\n",
       "      <th>4</th>\n",
       "      <td>260000000</td>\n",
       "      <td>[{\"id\": 28, \"name\": \"Action\"}, {\"id\": 12, \"nam...</td>\n",
       "      <td>http://movies.disney.com/john-carter</td>\n",
       "      <td>49529</td>\n",
       "      <td>[{\"id\": 818, \"name\": \"based on novel\"}, {\"id\":...</td>\n",
       "      <td>en</td>\n",
       "      <td>John Carter</td>\n",
       "      <td>John Carter is a war-weary, former military ca...</td>\n",
       "      <td>43.926995</td>\n",
       "      <td>[{\"name\": \"Walt Disney Pictures\", \"id\": 2}]</td>\n",
       "      <td>[{\"iso_3166_1\": \"US\", \"name\": \"United States o...</td>\n",
       "      <td>2012-03-07</td>\n",
       "      <td>284139100</td>\n",
       "      <td>132.0</td>\n",
       "      <td>[{\"iso_639_1\": \"en\", \"name\": \"English\"}]</td>\n",
       "      <td>Released</td>\n",
       "      <td>Lost in our world, found in another.</td>\n",
       "      <td>John Carter</td>\n",
       "      <td>6.1</td>\n",
       "      <td>2124</td>\n",
       "    </tr>\n",
       "  </tbody>\n",
       "</table>\n",
       "</div>"
      ],
      "text/plain": [
       "      budget                                             genres  \\\n",
       "0  237000000  [{\"id\": 28, \"name\": \"Action\"}, {\"id\": 12, \"nam...   \n",
       "1  300000000  [{\"id\": 12, \"name\": \"Adventure\"}, {\"id\": 14, \"...   \n",
       "2  245000000  [{\"id\": 28, \"name\": \"Action\"}, {\"id\": 12, \"nam...   \n",
       "3  250000000  [{\"id\": 28, \"name\": \"Action\"}, {\"id\": 80, \"nam...   \n",
       "4  260000000  [{\"id\": 28, \"name\": \"Action\"}, {\"id\": 12, \"nam...   \n",
       "\n",
       "                                       homepage      id  \\\n",
       "0                   http://www.avatarmovie.com/   19995   \n",
       "1  http://disney.go.com/disneypictures/pirates/     285   \n",
       "2   http://www.sonypictures.com/movies/spectre/  206647   \n",
       "3            http://www.thedarkknightrises.com/   49026   \n",
       "4          http://movies.disney.com/john-carter   49529   \n",
       "\n",
       "                                            keywords original_language  \\\n",
       "0  [{\"id\": 1463, \"name\": \"culture clash\"}, {\"id\":...                en   \n",
       "1  [{\"id\": 270, \"name\": \"ocean\"}, {\"id\": 726, \"na...                en   \n",
       "2  [{\"id\": 470, \"name\": \"spy\"}, {\"id\": 818, \"name...                en   \n",
       "3  [{\"id\": 849, \"name\": \"dc comics\"}, {\"id\": 853,...                en   \n",
       "4  [{\"id\": 818, \"name\": \"based on novel\"}, {\"id\":...                en   \n",
       "\n",
       "                             original_title  \\\n",
       "0                                    Avatar   \n",
       "1  Pirates of the Caribbean: At World's End   \n",
       "2                                   Spectre   \n",
       "3                     The Dark Knight Rises   \n",
       "4                               John Carter   \n",
       "\n",
       "                                            overview  popularity  \\\n",
       "0  In the 22nd century, a paraplegic Marine is di...  150.437577   \n",
       "1  Captain Barbossa, long believed to be dead, ha...  139.082615   \n",
       "2  A cryptic message from Bond’s past sends him o...  107.376788   \n",
       "3  Following the death of District Attorney Harve...  112.312950   \n",
       "4  John Carter is a war-weary, former military ca...   43.926995   \n",
       "\n",
       "                                production_companies  \\\n",
       "0  [{\"name\": \"Ingenious Film Partners\", \"id\": 289...   \n",
       "1  [{\"name\": \"Walt Disney Pictures\", \"id\": 2}, {\"...   \n",
       "2  [{\"name\": \"Columbia Pictures\", \"id\": 5}, {\"nam...   \n",
       "3  [{\"name\": \"Legendary Pictures\", \"id\": 923}, {\"...   \n",
       "4        [{\"name\": \"Walt Disney Pictures\", \"id\": 2}]   \n",
       "\n",
       "                                production_countries release_date     revenue  \\\n",
       "0  [{\"iso_3166_1\": \"US\", \"name\": \"United States o...   2009-12-10  2787965087   \n",
       "1  [{\"iso_3166_1\": \"US\", \"name\": \"United States o...   2007-05-19   961000000   \n",
       "2  [{\"iso_3166_1\": \"GB\", \"name\": \"United Kingdom\"...   2015-10-26   880674609   \n",
       "3  [{\"iso_3166_1\": \"US\", \"name\": \"United States o...   2012-07-16  1084939099   \n",
       "4  [{\"iso_3166_1\": \"US\", \"name\": \"United States o...   2012-03-07   284139100   \n",
       "\n",
       "   runtime                                   spoken_languages    status  \\\n",
       "0    162.0  [{\"iso_639_1\": \"en\", \"name\": \"English\"}, {\"iso...  Released   \n",
       "1    169.0           [{\"iso_639_1\": \"en\", \"name\": \"English\"}]  Released   \n",
       "2    148.0  [{\"iso_639_1\": \"fr\", \"name\": \"Fran\\u00e7ais\"},...  Released   \n",
       "3    165.0           [{\"iso_639_1\": \"en\", \"name\": \"English\"}]  Released   \n",
       "4    132.0           [{\"iso_639_1\": \"en\", \"name\": \"English\"}]  Released   \n",
       "\n",
       "                                          tagline  \\\n",
       "0                     Enter the World of Pandora.   \n",
       "1  At the end of the world, the adventure begins.   \n",
       "2                           A Plan No One Escapes   \n",
       "3                                 The Legend Ends   \n",
       "4            Lost in our world, found in another.   \n",
       "\n",
       "                                      title  vote_average  vote_count  \n",
       "0                                    Avatar           7.2       11800  \n",
       "1  Pirates of the Caribbean: At World's End           6.9        4500  \n",
       "2                                   Spectre           6.3        4466  \n",
       "3                     The Dark Knight Rises           7.6        9106  \n",
       "4                               John Carter           6.1        2124  "
      ]
     },
     "execution_count": 5,
     "metadata": {},
     "output_type": "execute_result"
    }
   ],
   "source": [
    "movies.head()"
   ]
  },
  {
   "cell_type": "code",
   "execution_count": 6,
   "metadata": {},
   "outputs": [
    {
     "data": {
      "text/plain": [
       "(4809, 23)"
      ]
     },
     "execution_count": 6,
     "metadata": {},
     "output_type": "execute_result"
    }
   ],
   "source": [
    "movie_df=movies.merge(credits,on='title')\n",
    "movie_df.shape"
   ]
  },
  {
   "cell_type": "code",
   "execution_count": 7,
   "metadata": {},
   "outputs": [
    {
     "data": {
      "text/plain": [
       "Index(['budget', 'genres', 'homepage', 'id', 'keywords', 'original_language',\n",
       "       'original_title', 'overview', 'popularity', 'production_companies',\n",
       "       'production_countries', 'release_date', 'revenue', 'runtime',\n",
       "       'spoken_languages', 'status', 'tagline', 'title', 'vote_average',\n",
       "       'vote_count', 'movie_id', 'cast', 'crew'],\n",
       "      dtype='object')"
      ]
     },
     "execution_count": 7,
     "metadata": {},
     "output_type": "execute_result"
    }
   ],
   "source": [
    "movie_df.columns"
   ]
  },
  {
   "cell_type": "code",
   "execution_count": 8,
   "metadata": {},
   "outputs": [],
   "source": [
    "# only keeping selected columns\n",
    "# movie_id,title,cast,overview,spoken_languages,'genres',keywords\n",
    "old_df=movie_df\n",
    "movie_df=movie_df[['movie_id','title','cast','crew','overview','spoken_languages','genres','keywords']]"
   ]
  },
  {
   "cell_type": "code",
   "execution_count": 9,
   "metadata": {},
   "outputs": [
    {
     "data": {
      "text/plain": [
       "movie_id            0\n",
       "title               0\n",
       "cast                0\n",
       "crew                0\n",
       "overview            3\n",
       "spoken_languages    0\n",
       "genres              0\n",
       "keywords            0\n",
       "dtype: int64"
      ]
     },
     "execution_count": 9,
     "metadata": {},
     "output_type": "execute_result"
    }
   ],
   "source": [
    "movie_df.isnull().sum()"
   ]
  },
  {
   "cell_type": "code",
   "execution_count": 10,
   "metadata": {},
   "outputs": [],
   "source": [
    "movie_df.dropna(axis=0,inplace=True)"
   ]
  },
  {
   "cell_type": "code",
   "execution_count": 11,
   "metadata": {},
   "outputs": [],
   "source": [
    "movie_df.drop_duplicates(inplace=True)"
   ]
  },
  {
   "cell_type": "markdown",
   "metadata": {},
   "source": [
    "### feature engineering"
   ]
  },
  {
   "cell_type": "markdown",
   "metadata": {},
   "source": [
    "genres"
   ]
  },
  {
   "cell_type": "code",
   "execution_count": 12,
   "metadata": {},
   "outputs": [
    {
     "data": {
      "text/plain": [
       "'[{\"id\": 28, \"name\": \"Action\"}, {\"id\": 12, \"name\": \"Adventure\"}, {\"id\": 14, \"name\": \"Fantasy\"}, {\"id\": 878, \"name\": \"Science Fiction\"}]'"
      ]
     },
     "execution_count": 12,
     "metadata": {},
     "output_type": "execute_result"
    }
   ],
   "source": [
    "movie_df['genres'].values[0]"
   ]
  },
  {
   "cell_type": "code",
   "execution_count": 13,
   "metadata": {},
   "outputs": [
    {
     "data": {
      "text/plain": [
       "['Action', 'Adventure', 'Fantasy', 'Science Fiction']"
      ]
     },
     "execution_count": 13,
     "metadata": {},
     "output_type": "execute_result"
    }
   ],
   "source": [
    "# get genres name\n",
    "import ast\n",
    "def convert(obj):\n",
    "    L=[]\n",
    "    for i in ast.literal_eval(obj):\n",
    "        L.append(i['name'])\n",
    "    return L\n",
    "\n",
    "string='[{\"id\": 28, \"name\": \"Action\"}, {\"id\": 12, \"name\": \"Adventure\"}, {\"id\": 14, \"name\": \"Fantasy\"}, {\"id\": 878, \"name\": \"Science Fiction\"}]'\n",
    "convert(string)"
   ]
  },
  {
   "cell_type": "code",
   "execution_count": 14,
   "metadata": {},
   "outputs": [
    {
     "data": {
      "text/plain": [
       "array([list(['Action', 'Adventure', 'Fantasy', 'Science Fiction']),\n",
       "       list(['Adventure', 'Fantasy', 'Action']),\n",
       "       list(['Action', 'Adventure', 'Crime'])], dtype=object)"
      ]
     },
     "execution_count": 14,
     "metadata": {},
     "output_type": "execute_result"
    }
   ],
   "source": [
    "movie_df['genres']=movie_df['genres'].apply(convert)\n",
    "movie_df['genres'].values[:3]"
   ]
  },
  {
   "cell_type": "markdown",
   "metadata": {},
   "source": [
    "Keywords"
   ]
  },
  {
   "cell_type": "code",
   "execution_count": 15,
   "metadata": {},
   "outputs": [
    {
     "data": {
      "text/plain": [
       "array(['[{\"id\": 1463, \"name\": \"culture clash\"}, {\"id\": 2964, \"name\": \"future\"}, {\"id\": 3386, \"name\": \"space war\"}, {\"id\": 3388, \"name\": \"space colony\"}, {\"id\": 3679, \"name\": \"society\"}, {\"id\": 3801, \"name\": \"space travel\"}, {\"id\": 9685, \"name\": \"futuristic\"}, {\"id\": 9840, \"name\": \"romance\"}, {\"id\": 9882, \"name\": \"space\"}, {\"id\": 9951, \"name\": \"alien\"}, {\"id\": 10148, \"name\": \"tribe\"}, {\"id\": 10158, \"name\": \"alien planet\"}, {\"id\": 10987, \"name\": \"cgi\"}, {\"id\": 11399, \"name\": \"marine\"}, {\"id\": 13065, \"name\": \"soldier\"}, {\"id\": 14643, \"name\": \"battle\"}, {\"id\": 14720, \"name\": \"love affair\"}, {\"id\": 165431, \"name\": \"anti war\"}, {\"id\": 193554, \"name\": \"power relations\"}, {\"id\": 206690, \"name\": \"mind and soul\"}, {\"id\": 209714, \"name\": \"3d\"}]',\n",
       "       '[{\"id\": 270, \"name\": \"ocean\"}, {\"id\": 726, \"name\": \"drug abuse\"}, {\"id\": 911, \"name\": \"exotic island\"}, {\"id\": 1319, \"name\": \"east india trading company\"}, {\"id\": 2038, \"name\": \"love of one\\'s life\"}, {\"id\": 2052, \"name\": \"traitor\"}, {\"id\": 2580, \"name\": \"shipwreck\"}, {\"id\": 2660, \"name\": \"strong woman\"}, {\"id\": 3799, \"name\": \"ship\"}, {\"id\": 5740, \"name\": \"alliance\"}, {\"id\": 5941, \"name\": \"calypso\"}, {\"id\": 6155, \"name\": \"afterlife\"}, {\"id\": 6211, \"name\": \"fighter\"}, {\"id\": 12988, \"name\": \"pirate\"}, {\"id\": 157186, \"name\": \"swashbuckler\"}, {\"id\": 179430, \"name\": \"aftercreditsstinger\"}]',\n",
       "       '[{\"id\": 470, \"name\": \"spy\"}, {\"id\": 818, \"name\": \"based on novel\"}, {\"id\": 4289, \"name\": \"secret agent\"}, {\"id\": 9663, \"name\": \"sequel\"}, {\"id\": 14555, \"name\": \"mi6\"}, {\"id\": 156095, \"name\": \"british secret service\"}, {\"id\": 158431, \"name\": \"united kingdom\"}]'],\n",
       "      dtype=object)"
      ]
     },
     "execution_count": 15,
     "metadata": {},
     "output_type": "execute_result"
    }
   ],
   "source": [
    "movie_df['keywords'].values[:3]"
   ]
  },
  {
   "cell_type": "code",
   "execution_count": 16,
   "metadata": {},
   "outputs": [],
   "source": [
    "movie_df['keywords']=movie_df['keywords'].apply(convert)"
   ]
  },
  {
   "cell_type": "code",
   "execution_count": 17,
   "metadata": {},
   "outputs": [
    {
     "data": {
      "text/plain": [
       "[English]                    3174\n",
       "[English, Español]            127\n",
       "[English, Français]           115\n",
       "[]                             85\n",
       "[Español, English]             54\n",
       "                             ... \n",
       "[English, 普通话, Pусский]         1\n",
       "[Tiếng Việt, English]           1\n",
       "[Latin, English]                1\n",
       "[Latin, English, Español]       1\n",
       "[Polski, English]               1\n",
       "Name: spoken_languages, Length: 530, dtype: int64"
      ]
     },
     "execution_count": 17,
     "metadata": {},
     "output_type": "execute_result"
    }
   ],
   "source": [
    "movie_df['spoken_languages'].apply(convert).value_counts()"
   ]
  },
  {
   "cell_type": "code",
   "execution_count": 18,
   "metadata": {},
   "outputs": [],
   "source": [
    "# Drop spoken_languages\n",
    "movie_df.drop(['spoken_languages'],axis=1,inplace=True)"
   ]
  },
  {
   "cell_type": "code",
   "execution_count": 19,
   "metadata": {},
   "outputs": [
    {
     "data": {
      "text/html": [
       "<div>\n",
       "<style scoped>\n",
       "    .dataframe tbody tr th:only-of-type {\n",
       "        vertical-align: middle;\n",
       "    }\n",
       "\n",
       "    .dataframe tbody tr th {\n",
       "        vertical-align: top;\n",
       "    }\n",
       "\n",
       "    .dataframe thead th {\n",
       "        text-align: right;\n",
       "    }\n",
       "</style>\n",
       "<table border=\"1\" class=\"dataframe\">\n",
       "  <thead>\n",
       "    <tr style=\"text-align: right;\">\n",
       "      <th></th>\n",
       "      <th>movie_id</th>\n",
       "      <th>title</th>\n",
       "      <th>cast</th>\n",
       "      <th>crew</th>\n",
       "      <th>overview</th>\n",
       "      <th>genres</th>\n",
       "      <th>keywords</th>\n",
       "    </tr>\n",
       "  </thead>\n",
       "  <tbody>\n",
       "    <tr>\n",
       "      <th>0</th>\n",
       "      <td>19995</td>\n",
       "      <td>Avatar</td>\n",
       "      <td>[{\"cast_id\": 242, \"character\": \"Jake Sully\", \"...</td>\n",
       "      <td>[{\"credit_id\": \"52fe48009251416c750aca23\", \"de...</td>\n",
       "      <td>In the 22nd century, a paraplegic Marine is di...</td>\n",
       "      <td>[Action, Adventure, Fantasy, Science Fiction]</td>\n",
       "      <td>[culture clash, future, space war, space colon...</td>\n",
       "    </tr>\n",
       "  </tbody>\n",
       "</table>\n",
       "</div>"
      ],
      "text/plain": [
       "   movie_id   title                                               cast  \\\n",
       "0     19995  Avatar  [{\"cast_id\": 242, \"character\": \"Jake Sully\", \"...   \n",
       "\n",
       "                                                crew  \\\n",
       "0  [{\"credit_id\": \"52fe48009251416c750aca23\", \"de...   \n",
       "\n",
       "                                            overview  \\\n",
       "0  In the 22nd century, a paraplegic Marine is di...   \n",
       "\n",
       "                                          genres  \\\n",
       "0  [Action, Adventure, Fantasy, Science Fiction]   \n",
       "\n",
       "                                            keywords  \n",
       "0  [culture clash, future, space war, space colon...  "
      ]
     },
     "execution_count": 19,
     "metadata": {},
     "output_type": "execute_result"
    }
   ],
   "source": [
    "movie_df.head(1)"
   ]
  },
  {
   "cell_type": "markdown",
   "metadata": {},
   "source": [
    "<b>Casts</b> : Extract Top 3 Charecter Actors and Actresses"
   ]
  },
  {
   "cell_type": "code",
   "execution_count": 20,
   "metadata": {},
   "outputs": [
    {
     "data": {
      "text/plain": [
       "'[{\"cast_id\": 4, \"character\": \"Captain Jack Sparrow\", \"credit_id\": \"52fe4232c3a36847f800b50d\", \"gender\": 2, \"id\": 85, \"name\": \"Johnny Depp\", \"order\": 0}, {\"cast_id\": 5, \"character\": \"Will Turner\", \"credit_id\": \"52fe4232c3a36847f800b511\", \"gender\": 2, \"id\": 114, \"name\": \"Orlando Bloom\", \"order\": 1}, {\"cast_id\": 6, \"character\": \"Elizabeth Swann\", \"credit_id\": \"52fe4232c3a36847f800b515\", \"gender\": 1, \"id\": 116, \"name\": \"Keira Knightley\", \"order\": 2}, {\"cast_id\": 12, \"character\": \"William \\\\\"Bootstrap Bill\\\\\" Turner\", \"credit_id\": \"52fe4232c3a36847f800b52d\", \"gender\": 2, \"id\": 1640, \"name\": \"Stellan Skarsg\\\\u00e5rd\", \"order\": 3}, {\"cast_id\": 10, \"character\": \"Captain Sao Feng\", \"credit_id\": \"52fe4232c3a36847f800b525\", \"gender\": 2, \"id\": 1619, \"name\": \"Chow Yun-fat\", \"order\": 4}, {\"cast_id\": 9, \"character\": \"Captain Davy Jones\", \"credit_id\": \"52fe4232c3a36847f800b521\", \"gender\": 2, \"id\": 2440, \"name\": \"Bill Nighy\", \"order\": 5}, {\"cast_id\": 7, \"character\": \"Captain Hector Barbossa\", \"credit_id\": \"52fe4232c3a36847f800b519\", \"gender\": 2, \"id\": 118, \"name\": \"Geoffrey Rush\", \"order\": 6}, {\"cast_id\": 14, \"character\": \"Admiral James Norrington\", \"credit_id\": \"52fe4232c3a36847f800b535\", \"gender\": 2, \"id\": 1709, \"name\": \"Jack Davenport\", \"order\": 7}, {\"cast_id\": 13, \"character\": \"Joshamee Gibbs\", \"credit_id\": \"52fe4232c3a36847f800b531\", \"gender\": 2, \"id\": 2449, \"name\": \"Kevin McNally\", \"order\": 8}, {\"cast_id\": 11, \"character\": \"Lord Cutler Beckett\", \"credit_id\": \"52fe4232c3a36847f800b529\", \"gender\": 2, \"id\": 2441, \"name\": \"Tom Hollander\", \"order\": 9}, {\"cast_id\": 19, \"character\": \"Tia Dalma\", \"credit_id\": \"52fe4232c3a36847f800b549\", \"gender\": 1, \"id\": 2038, \"name\": \"Naomie Harris\", \"order\": 10}, {\"cast_id\": 8, \"character\": \"Governor Weatherby Swann\", \"credit_id\": \"52fe4232c3a36847f800b51d\", \"gender\": 2, \"id\": 378, \"name\": \"Jonathan Pryce\", \"order\": 11}, {\"cast_id\": 37, \"character\": \"Captain Teague Sparrow\", \"credit_id\": \"52fe4232c3a36847f800b5b3\", \"gender\": 2, \"id\": 1430, \"name\": \"Keith Richards\", \"order\": 12}, {\"cast_id\": 16, \"character\": \"Pintel\", \"credit_id\": \"52fe4232c3a36847f800b53d\", \"gender\": 2, \"id\": 1710, \"name\": \"Lee Arenberg\", \"order\": 13}, {\"cast_id\": 15, \"character\": \"Ragetti\", \"credit_id\": \"52fe4232c3a36847f800b539\", \"gender\": 2, \"id\": 1711, \"name\": \"Mackenzie Crook\", \"order\": 14}, {\"cast_id\": 18, \"character\": \"Lieutenant Theodore Groves\", \"credit_id\": \"52fe4232c3a36847f800b545\", \"gender\": 2, \"id\": 4031, \"name\": \"Greg Ellis\", \"order\": 15}, {\"cast_id\": 55, \"character\": \"Cotton\", \"credit_id\": \"57e28d2ec3a3681a01005b5c\", \"gender\": 2, \"id\": 1715, \"name\": \"David Bailie\", \"order\": 16}, {\"cast_id\": 17, \"character\": \"Marty\", \"credit_id\": \"52fe4232c3a36847f800b541\", \"gender\": 2, \"id\": 4030, \"name\": \"Martin Klebba\", \"order\": 17}, {\"cast_id\": 57, \"character\": \"Ian Mercer\", \"credit_id\": \"57e28d78c3a36808b900bf4f\", \"gender\": 0, \"id\": 939, \"name\": \"David Schofield\", \"order\": 18}, {\"cast_id\": 62, \"character\": \"Scarlett\", \"credit_id\": \"57e28ec5c3a3681a50005855\", \"gender\": 1, \"id\": 2450, \"name\": \"Lauren Maher\", \"order\": 19}, {\"cast_id\": 63, \"character\": \"Giselle\", \"credit_id\": \"57e28ed692514123f5005635\", \"gender\": 1, \"id\": 2452, \"name\": \"Vanessa Branch\", \"order\": 20}, {\"cast_id\": 60, \"character\": \"Mullroy\", \"credit_id\": \"57e28db2c3a3681a01005bc7\", \"gender\": 2, \"id\": 1714, \"name\": \"Angus Barnett\", \"order\": 21}, {\"cast_id\": 59, \"character\": \"Murtogg\", \"credit_id\": \"57e28da192514118f7006008\", \"gender\": 0, \"id\": 1713, \"name\": \"Giles New\", \"order\": 22}, {\"cast_id\": 58, \"character\": \"Tai Huang\", \"credit_id\": \"57e28d8ec3a3681a01005bab\", \"gender\": 2, \"id\": 22075, \"name\": \"Reggie Lee\", \"order\": 23}, {\"cast_id\": 64, \"character\": \"Henry Turner\", \"credit_id\": \"57e29119925141151100a6cc\", \"gender\": 2, \"id\": 61259, \"name\": \"Dominic Scott Kay\", \"order\": 24}, {\"cast_id\": 39, \"character\": \"Mistress Ching\", \"credit_id\": \"52fe4232c3a36847f800b5bd\", \"gender\": 1, \"id\": 33500, \"name\": \"Takayo Fischer\", \"order\": 25}, {\"cast_id\": 40, \"character\": \"Lieutenant Greitzer\", \"credit_id\": \"52fe4232c3a36847f800b5c1\", \"gender\": 2, \"id\": 1224149, \"name\": \"David Meunier\", \"order\": 26}, {\"cast_id\": 49, \"character\": \"Hadras\", \"credit_id\": \"56d1871c92514174680010cf\", \"gender\": 2, \"id\": 429401, \"name\": \"Ho-Kwan Tse\", \"order\": 27}, {\"cast_id\": 56, \"character\": \"Clacker\", \"credit_id\": \"57e28d4b92514125710055cb\", \"gender\": 0, \"id\": 1123, \"name\": \"Andy Beckwith\", \"order\": 28}, {\"cast_id\": 51, \"character\": \"Penrod\", \"credit_id\": \"56ec8c14c3a3682260003c53\", \"gender\": 2, \"id\": 1056117, \"name\": \"Peter Donald Badalamenti II\", \"order\": 29}, {\"cast_id\": 61, \"character\": \"Cotton\\'s Parrot (voice)\", \"credit_id\": \"57e28dcc9251412463005678\", \"gender\": 2, \"id\": 21700, \"name\": \"Christopher S. Capp\", \"order\": 30}, {\"cast_id\": 65, \"character\": \"Captain Teague\", \"credit_id\": \"58bc2a37c3a368663003740b\", \"gender\": 2, \"id\": 1430, \"name\": \"Keith Richards\", \"order\": 31}, {\"cast_id\": 66, \"character\": \"Captain Jocard\", \"credit_id\": \"58bc2a8e925141609e03a179\", \"gender\": 2, \"id\": 2603, \"name\": \"Hakeem Kae-Kazim\", \"order\": 32}, {\"cast_id\": 67, \"character\": \"Captain Ammand\", \"credit_id\": \"58e2a21ac3a36872af00f9c2\", \"gender\": 0, \"id\": 70577, \"name\": \"Ghassan Massoud\", \"order\": 33}]'"
      ]
     },
     "execution_count": 20,
     "metadata": {},
     "output_type": "execute_result"
    }
   ],
   "source": [
    "movie_df['cast'][1]"
   ]
  },
  {
   "cell_type": "code",
   "execution_count": 21,
   "metadata": {},
   "outputs": [
    {
     "data": {
      "text/plain": [
       "0        [Sam Worthington, Zoe Saldana, Sigourney Weaver]\n",
       "1           [Johnny Depp, Orlando Bloom, Keira Knightley]\n",
       "2            [Daniel Craig, Christoph Waltz, Léa Seydoux]\n",
       "3            [Christian Bale, Michael Caine, Gary Oldman]\n",
       "4          [Taylor Kitsch, Lynn Collins, Samantha Morton]\n",
       "                              ...                        \n",
       "4804    [Carlos Gallardo, Jaime de Hoyos, Peter Marqua...\n",
       "4805         [Edward Burns, Kerry Bishé, Marsha Dietlein]\n",
       "4806           [Eric Mabius, Kristin Booth, Crystal Lowe]\n",
       "4807            [Daniel Henney, Eliza Coupe, Bill Paxton]\n",
       "4808    [Drew Barrymore, Brian Herzlinger, Corey Feldman]\n",
       "Name: cast, Length: 4806, dtype: object"
      ]
     },
     "execution_count": 21,
     "metadata": {},
     "output_type": "execute_result"
    }
   ],
   "source": [
    "import ast\n",
    "def get_3_cast(obj):\n",
    "    L=[]\n",
    "    for i in ast.literal_eval(obj)[:3]:\n",
    "        L.append(i['name'])\n",
    "    return L\n",
    "movie_df['cast'].apply(get_3_cast)"
   ]
  },
  {
   "cell_type": "code",
   "execution_count": 22,
   "metadata": {},
   "outputs": [],
   "source": [
    "movie_df['cast']=movie_df['cast'].apply(get_3_cast)"
   ]
  },
  {
   "cell_type": "markdown",
   "metadata": {},
   "source": [
    "<b>Crew</b> : Extract Directer Name."
   ]
  },
  {
   "cell_type": "code",
   "execution_count": 23,
   "metadata": {},
   "outputs": [
    {
     "data": {
      "text/plain": [
       "'[{\"credit_id\": \"52fe48009251416c750aca23\", \"department\": \"Editing\", \"gender\": 0, \"id\": 1721, \"job\": \"Editor\", \"name\": \"Stephen E. Rivkin\"}, {\"credit_id\": \"539c47ecc3a36810e3001f87\", \"department\": \"Art\", \"gender\": 2, \"id\": 496, \"job\": \"Production Design\", \"name\": \"Rick Carter\"}, {\"credit_id\": \"54491c89c3a3680fb4001cf7\", \"department\": \"Sound\", \"gender\": 0, \"id\": 900, \"job\": \"Sound Designer\", \"name\": \"Christopher Boyes\"}, {\"credit_id\": \"54491cb70e0a267480001bd0\", \"department\": \"Sound\", \"gender\": 0, \"id\": 900, \"job\": \"Supervising Sound Editor\", \"name\": \"Christopher Boyes\"}, {\"credit_id\": \"539c4a4cc3a36810c9002101\", \"department\": \"Production\", \"gender\": 1, \"id\": 1262, \"job\": \"Casting\", \"name\": \"Mali Finn\"}, {\"credit_id\": \"5544ee3b925141499f0008fc\", \"department\": \"Sound\", \"gender\": 2, \"id\": 1729, \"job\": \"Original Music Composer\", \"name\": \"James Horner\"}, {\"credit_id\": \"52fe48009251416c750ac9c3\", \"department\": \"Directing\", \"gender\": 2, \"id\": 2710, \"job\": \"Director\", \"name\": \"James Cameron\"}, {\"credit_id\": \"52fe48009251416c750ac9d9\", \"department\": \"Writing\", \"gender\": 2, \"id\": 2710, \"job\": \"Writer\", \"name\": \"James Cameron\"}, {\"credit_id\": \"52fe48009251416c750aca17\", \"department\": \"Editing\", \"gender\": 2, \"id\": 2710, \"job\": \"Editor\", \"name\": \"James Cameron\"}, {\"credit_id\": \"52fe48009251416c750aca29\", \"department\": \"Production\", \"gender\": 2, \"id\": 2710, \"job\": \"Producer\", \"name\": \"James Cameron\"}, {\"credit_id\": \"52fe48009251416c750aca3f\", \"department\": \"Writing\", \"gender\": 2, \"id\": 2710, \"job\": \"Screenplay\", \"name\": \"James Cameron\"}, {\"credit_id\": \"539c4987c3a36810ba0021a4\", \"department\": \"Art\", \"gender\": 2, \"id\": 7236, \"job\": \"Art Direction\", \"name\": \"Andrew Menzies\"}, {\"credit_id\": \"549598c3c3a3686ae9004383\", \"department\": \"Visual Effects\", \"gender\": 0, \"id\": 6690, \"job\": \"Visual Effects Producer\", \"name\": \"Jill Brooks\"}, {\"credit_id\": \"52fe48009251416c750aca4b\", \"department\": \"Production\", \"gender\": 1, \"id\": 6347, \"job\": \"Casting\", \"name\": \"Margery Simkin\"}, {\"credit_id\": \"570b6f419251417da70032fe\", \"department\": \"Art\", \"gender\": 2, \"id\": 6878, \"job\": \"Supervising Art Director\", \"name\": \"Kevin Ishioka\"}, {\"credit_id\": \"5495a0fac3a3686ae9004468\", \"department\": \"Sound\", \"gender\": 0, \"id\": 6883, \"job\": \"Music Editor\", \"name\": \"Dick Bernstein\"}, {\"credit_id\": \"54959706c3a3686af3003e81\", \"department\": \"Sound\", \"gender\": 0, \"id\": 8159, \"job\": \"Sound Effects Editor\", \"name\": \"Shannon Mills\"}, {\"credit_id\": \"54491d58c3a3680fb1001ccb\", \"department\": \"Sound\", \"gender\": 0, \"id\": 8160, \"job\": \"Foley\", \"name\": \"Dennie Thorpe\"}, {\"credit_id\": \"54491d6cc3a3680fa5001b2c\", \"department\": \"Sound\", \"gender\": 0, \"id\": 8163, \"job\": \"Foley\", \"name\": \"Jana Vance\"}, {\"credit_id\": \"52fe48009251416c750aca57\", \"department\": \"Costume & Make-Up\", \"gender\": 1, \"id\": 8527, \"job\": \"Costume Design\", \"name\": \"Deborah Lynn Scott\"}, {\"credit_id\": \"52fe48009251416c750aca2f\", \"department\": \"Production\", \"gender\": 2, \"id\": 8529, \"job\": \"Producer\", \"name\": \"Jon Landau\"}, {\"credit_id\": \"539c4937c3a36810ba002194\", \"department\": \"Art\", \"gender\": 0, \"id\": 9618, \"job\": \"Art Direction\", \"name\": \"Sean Haworth\"}, {\"credit_id\": \"539c49b6c3a36810c10020e6\", \"department\": \"Art\", \"gender\": 1, \"id\": 12653, \"job\": \"Set Decoration\", \"name\": \"Kim Sinclair\"}, {\"credit_id\": \"570b6f2f9251413a0e00020d\", \"department\": \"Art\", \"gender\": 1, \"id\": 12653, \"job\": \"Supervising Art Director\", \"name\": \"Kim Sinclair\"}, {\"credit_id\": \"54491a6c0e0a26748c001b19\", \"department\": \"Art\", \"gender\": 2, \"id\": 14350, \"job\": \"Set Designer\", \"name\": \"Richard F. Mays\"}, {\"credit_id\": \"56928cf4c3a3684cff0025c4\", \"department\": \"Production\", \"gender\": 1, \"id\": 20294, \"job\": \"Executive Producer\", \"name\": \"Laeta Kalogridis\"}, {\"credit_id\": \"52fe48009251416c750aca51\", \"department\": \"Costume & Make-Up\", \"gender\": 0, \"id\": 17675, \"job\": \"Costume Design\", \"name\": \"Mayes C. Rubeo\"}, {\"credit_id\": \"52fe48009251416c750aca11\", \"department\": \"Camera\", \"gender\": 2, \"id\": 18265, \"job\": \"Director of Photography\", \"name\": \"Mauro Fiore\"}, {\"credit_id\": \"5449194d0e0a26748f001b39\", \"department\": \"Art\", \"gender\": 0, \"id\": 42281, \"job\": \"Set Designer\", \"name\": \"Scott Herbertson\"}, {\"credit_id\": \"52fe48009251416c750aca05\", \"department\": \"Crew\", \"gender\": 0, \"id\": 42288, \"job\": \"Stunts\", \"name\": \"Woody Schultz\"}, {\"credit_id\": \"5592aefb92514152de0010f5\", \"department\": \"Costume & Make-Up\", \"gender\": 0, \"id\": 29067, \"job\": \"Makeup Artist\", \"name\": \"Linda DeVetta\"}, {\"credit_id\": \"5592afa492514152de00112c\", \"department\": \"Costume & Make-Up\", \"gender\": 0, \"id\": 29067, \"job\": \"Hairstylist\", \"name\": \"Linda DeVetta\"}, {\"credit_id\": \"54959ed592514130fc002e5d\", \"department\": \"Camera\", \"gender\": 2, \"id\": 33302, \"job\": \"Camera Operator\", \"name\": \"Richard Bluck\"}, {\"credit_id\": \"539c4891c3a36810ba002147\", \"department\": \"Art\", \"gender\": 2, \"id\": 33303, \"job\": \"Art Direction\", \"name\": \"Simon Bright\"}, {\"credit_id\": \"54959c069251417a81001f3a\", \"department\": \"Visual Effects\", \"gender\": 0, \"id\": 113145, \"job\": \"Visual Effects Supervisor\", \"name\": \"Richard Martin\"}, {\"credit_id\": \"54959a0dc3a3680ff5002c8d\", \"department\": \"Crew\", \"gender\": 2, \"id\": 58188, \"job\": \"Visual Effects Editor\", \"name\": \"Steve R. Moore\"}, {\"credit_id\": \"52fe48009251416c750aca1d\", \"department\": \"Editing\", \"gender\": 2, \"id\": 58871, \"job\": \"Editor\", \"name\": \"John Refoua\"}, {\"credit_id\": \"54491a4dc3a3680fc30018ca\", \"department\": \"Art\", \"gender\": 0, \"id\": 92359, \"job\": \"Set Designer\", \"name\": \"Karl J. Martin\"}, {\"credit_id\": \"52fe48009251416c750aca35\", \"department\": \"Camera\", \"gender\": 1, \"id\": 72201, \"job\": \"Director of Photography\", \"name\": \"Chiling Lin\"}, {\"credit_id\": \"52fe48009251416c750ac9ff\", \"department\": \"Crew\", \"gender\": 0, \"id\": 89714, \"job\": \"Stunts\", \"name\": \"Ilram Choi\"}, {\"credit_id\": \"54959c529251416e2b004394\", \"department\": \"Visual Effects\", \"gender\": 2, \"id\": 93214, \"job\": \"Visual Effects Supervisor\", \"name\": \"Steven Quale\"}, {\"credit_id\": \"54491edf0e0a267489001c37\", \"department\": \"Crew\", \"gender\": 1, \"id\": 122607, \"job\": \"Dialect Coach\", \"name\": \"Carla Meyer\"}, {\"credit_id\": \"539c485bc3a368653d001a3a\", \"department\": \"Art\", \"gender\": 2, \"id\": 132585, \"job\": \"Art Direction\", \"name\": \"Nick Bassett\"}, {\"credit_id\": \"539c4903c3a368653d001a74\", \"department\": \"Art\", \"gender\": 0, \"id\": 132596, \"job\": \"Art Direction\", \"name\": \"Jill Cormack\"}, {\"credit_id\": \"539c4967c3a368653d001a94\", \"department\": \"Art\", \"gender\": 0, \"id\": 132604, \"job\": \"Art Direction\", \"name\": \"Andy McLaren\"}, {\"credit_id\": \"52fe48009251416c750aca45\", \"department\": \"Crew\", \"gender\": 0, \"id\": 236696, \"job\": \"Motion Capture Artist\", \"name\": \"Terry Notary\"}, {\"credit_id\": \"54959e02c3a3680fc60027d2\", \"department\": \"Crew\", \"gender\": 2, \"id\": 956198, \"job\": \"Stunt Coordinator\", \"name\": \"Garrett Warren\"}, {\"credit_id\": \"54959ca3c3a3686ae300438c\", \"department\": \"Visual Effects\", \"gender\": 2, \"id\": 957874, \"job\": \"Visual Effects Supervisor\", \"name\": \"Jonathan Rothbart\"}, {\"credit_id\": \"570b6f519251412c74001b2f\", \"department\": \"Art\", \"gender\": 0, \"id\": 957889, \"job\": \"Supervising Art Director\", \"name\": \"Stefan Dechant\"}, {\"credit_id\": \"570b6f62c3a3680b77007460\", \"department\": \"Art\", \"gender\": 2, \"id\": 959555, \"job\": \"Supervising Art Director\", \"name\": \"Todd Cherniawsky\"}, {\"credit_id\": \"539c4a3ac3a36810da0021cc\", \"department\": \"Production\", \"gender\": 0, \"id\": 1016177, \"job\": \"Casting\", \"name\": \"Miranda Rivers\"}, {\"credit_id\": \"539c482cc3a36810c1002062\", \"department\": \"Art\", \"gender\": 0, \"id\": 1032536, \"job\": \"Production Design\", \"name\": \"Robert Stromberg\"}, {\"credit_id\": \"539c4b65c3a36810c9002125\", \"department\": \"Costume & Make-Up\", \"gender\": 2, \"id\": 1071680, \"job\": \"Costume Design\", \"name\": \"John Harding\"}, {\"credit_id\": \"54959e6692514130fc002e4e\", \"department\": \"Camera\", \"gender\": 0, \"id\": 1177364, \"job\": \"Steadicam Operator\", \"name\": \"Roberto De Angelis\"}, {\"credit_id\": \"539c49f1c3a368653d001aac\", \"department\": \"Costume & Make-Up\", \"gender\": 2, \"id\": 1202850, \"job\": \"Makeup Department Head\", \"name\": \"Mike Smithson\"}, {\"credit_id\": \"5495999ec3a3686ae100460c\", \"department\": \"Visual Effects\", \"gender\": 0, \"id\": 1204668, \"job\": \"Visual Effects Producer\", \"name\": \"Alain Lalanne\"}, {\"credit_id\": \"54959cdfc3a3681153002729\", \"department\": \"Visual Effects\", \"gender\": 0, \"id\": 1206410, \"job\": \"Visual Effects Supervisor\", \"name\": \"Lucas Salton\"}, {\"credit_id\": \"549596239251417a81001eae\", \"department\": \"Crew\", \"gender\": 0, \"id\": 1234266, \"job\": \"Post Production Supervisor\", \"name\": \"Janace Tashjian\"}, {\"credit_id\": \"54959c859251416e1e003efe\", \"department\": \"Visual Effects\", \"gender\": 0, \"id\": 1271932, \"job\": \"Visual Effects Supervisor\", \"name\": \"Stephen Rosenbaum\"}, {\"credit_id\": \"5592af28c3a368775a00105f\", \"department\": \"Costume & Make-Up\", \"gender\": 0, \"id\": 1310064, \"job\": \"Makeup Artist\", \"name\": \"Frankie Karena\"}, {\"credit_id\": \"539c4adfc3a36810e300203b\", \"department\": \"Costume & Make-Up\", \"gender\": 1, \"id\": 1319844, \"job\": \"Costume Supervisor\", \"name\": \"Lisa Lovaas\"}, {\"credit_id\": \"54959b579251416e2b004371\", \"department\": \"Visual Effects\", \"gender\": 0, \"id\": 1327028, \"job\": \"Visual Effects Supervisor\", \"name\": \"Jonathan Fawkner\"}, {\"credit_id\": \"539c48a7c3a36810b5001fa7\", \"department\": \"Art\", \"gender\": 0, \"id\": 1330561, \"job\": \"Art Direction\", \"name\": \"Robert Bavin\"}, {\"credit_id\": \"539c4a71c3a36810da0021e0\", \"department\": \"Costume & Make-Up\", \"gender\": 0, \"id\": 1330567, \"job\": \"Costume Supervisor\", \"name\": \"Anthony Almaraz\"}, {\"credit_id\": \"539c4a8ac3a36810ba0021e4\", \"department\": \"Costume & Make-Up\", \"gender\": 0, \"id\": 1330570, \"job\": \"Costume Supervisor\", \"name\": \"Carolyn M. Fenton\"}, {\"credit_id\": \"539c4ab6c3a36810da0021f0\", \"department\": \"Costume & Make-Up\", \"gender\": 0, \"id\": 1330574, \"job\": \"Costume Supervisor\", \"name\": \"Beth Koenigsberg\"}, {\"credit_id\": \"54491ab70e0a267480001ba2\", \"department\": \"Art\", \"gender\": 0, \"id\": 1336191, \"job\": \"Set Designer\", \"name\": \"Sam Page\"}, {\"credit_id\": \"544919d9c3a3680fc30018bd\", \"department\": \"Art\", \"gender\": 0, \"id\": 1339441, \"job\": \"Set Designer\", \"name\": \"Tex Kadonaga\"}, {\"credit_id\": \"54491cf50e0a267483001b0c\", \"department\": \"Editing\", \"gender\": 0, \"id\": 1352422, \"job\": \"Dialogue Editor\", \"name\": \"Kim Foscato\"}, {\"credit_id\": \"544919f40e0a26748c001b09\", \"department\": \"Art\", \"gender\": 0, \"id\": 1352962, \"job\": \"Set Designer\", \"name\": \"Tammy S. Lee\"}, {\"credit_id\": \"5495a115c3a3680ff5002d71\", \"department\": \"Crew\", \"gender\": 0, \"id\": 1357070, \"job\": \"Transportation Coordinator\", \"name\": \"Denny Caira\"}, {\"credit_id\": \"5495a12f92514130fc002e94\", \"department\": \"Crew\", \"gender\": 0, \"id\": 1357071, \"job\": \"Transportation Coordinator\", \"name\": \"James Waitkus\"}, {\"credit_id\": \"5495976fc3a36811530026b0\", \"department\": \"Sound\", \"gender\": 0, \"id\": 1360103, \"job\": \"Supervising Sound Editor\", \"name\": \"Addison Teague\"}, {\"credit_id\": \"54491837c3a3680fb1001c5a\", \"department\": \"Art\", \"gender\": 2, \"id\": 1376887, \"job\": \"Set Designer\", \"name\": \"C. Scott Baker\"}, {\"credit_id\": \"54491878c3a3680fb4001c9d\", \"department\": \"Art\", \"gender\": 0, \"id\": 1376888, \"job\": \"Set Designer\", \"name\": \"Luke Caska\"}, {\"credit_id\": \"544918dac3a3680fa5001ae0\", \"department\": \"Art\", \"gender\": 0, \"id\": 1376889, \"job\": \"Set Designer\", \"name\": \"David Chow\"}, {\"credit_id\": \"544919110e0a267486001b68\", \"department\": \"Art\", \"gender\": 0, \"id\": 1376890, \"job\": \"Set Designer\", \"name\": \"Jonathan Dyer\"}, {\"credit_id\": \"54491967c3a3680faa001b5e\", \"department\": \"Art\", \"gender\": 0, \"id\": 1376891, \"job\": \"Set Designer\", \"name\": \"Joseph Hiura\"}, {\"credit_id\": \"54491997c3a3680fb1001c8a\", \"department\": \"Art\", \"gender\": 0, \"id\": 1376892, \"job\": \"Art Department Coordinator\", \"name\": \"Rebecca Jellie\"}, {\"credit_id\": \"544919ba0e0a26748f001b42\", \"department\": \"Art\", \"gender\": 0, \"id\": 1376893, \"job\": \"Set Designer\", \"name\": \"Robert Andrew Johnson\"}, {\"credit_id\": \"54491b1dc3a3680faa001b8c\", \"department\": \"Art\", \"gender\": 0, \"id\": 1376895, \"job\": \"Assistant Art Director\", \"name\": \"Mike Stassi\"}, {\"credit_id\": \"54491b79c3a3680fbb001826\", \"department\": \"Art\", \"gender\": 0, \"id\": 1376897, \"job\": \"Construction Coordinator\", \"name\": \"John Villarino\"}, {\"credit_id\": \"54491baec3a3680fb4001ce6\", \"department\": \"Art\", \"gender\": 2, \"id\": 1376898, \"job\": \"Assistant Art Director\", \"name\": \"Jeffrey Wisniewski\"}, {\"credit_id\": \"54491d2fc3a3680fb4001d07\", \"department\": \"Editing\", \"gender\": 0, \"id\": 1376899, \"job\": \"Dialogue Editor\", \"name\": \"Cheryl Nardi\"}, {\"credit_id\": \"54491d86c3a3680fa5001b2f\", \"department\": \"Editing\", \"gender\": 0, \"id\": 1376901, \"job\": \"Dialogue Editor\", \"name\": \"Marshall Winn\"}, {\"credit_id\": \"54491d9dc3a3680faa001bb0\", \"department\": \"Sound\", \"gender\": 0, \"id\": 1376902, \"job\": \"Supervising Sound Editor\", \"name\": \"Gwendolyn Yates Whittle\"}, {\"credit_id\": \"54491dc10e0a267486001bce\", \"department\": \"Sound\", \"gender\": 0, \"id\": 1376903, \"job\": \"Sound Re-Recording Mixer\", \"name\": \"William Stein\"}, {\"credit_id\": \"54491f500e0a26747c001c07\", \"department\": \"Crew\", \"gender\": 0, \"id\": 1376909, \"job\": \"Choreographer\", \"name\": \"Lula Washington\"}, {\"credit_id\": \"549599239251412c4e002a2e\", \"department\": \"Visual Effects\", \"gender\": 0, \"id\": 1391692, \"job\": \"Visual Effects Producer\", \"name\": \"Chris Del Conte\"}, {\"credit_id\": \"54959d54c3a36831b8001d9a\", \"department\": \"Visual Effects\", \"gender\": 2, \"id\": 1391695, \"job\": \"Visual Effects Supervisor\", \"name\": \"R. Christopher White\"}, {\"credit_id\": \"54959bdf9251412c4e002a66\", \"department\": \"Visual Effects\", \"gender\": 0, \"id\": 1394070, \"job\": \"Visual Effects Supervisor\", \"name\": \"Dan Lemmon\"}, {\"credit_id\": \"5495971d92514132ed002922\", \"department\": \"Sound\", \"gender\": 0, \"id\": 1394129, \"job\": \"Sound Effects Editor\", \"name\": \"Tim Nielsen\"}, {\"credit_id\": \"5592b25792514152cc0011aa\", \"department\": \"Crew\", \"gender\": 0, \"id\": 1394286, \"job\": \"CG Supervisor\", \"name\": \"Michael Mulholland\"}, {\"credit_id\": \"54959a329251416e2b004355\", \"department\": \"Crew\", \"gender\": 0, \"id\": 1394750, \"job\": \"Visual Effects Editor\", \"name\": \"Thomas Nittmann\"}, {\"credit_id\": \"54959d6dc3a3686ae9004401\", \"department\": \"Visual Effects\", \"gender\": 0, \"id\": 1394755, \"job\": \"Visual Effects Supervisor\", \"name\": \"Edson Williams\"}, {\"credit_id\": \"5495a08fc3a3686ae300441c\", \"department\": \"Editing\", \"gender\": 0, \"id\": 1394953, \"job\": \"Digital Intermediate\", \"name\": \"Christine Carr\"}, {\"credit_id\": \"55402d659251413d6d000249\", \"department\": \"Visual Effects\", \"gender\": 0, \"id\": 1395269, \"job\": \"Visual Effects Supervisor\", \"name\": \"John Bruno\"}, {\"credit_id\": \"54959e7b9251416e1e003f3e\", \"department\": \"Camera\", \"gender\": 0, \"id\": 1398970, \"job\": \"Steadicam Operator\", \"name\": \"David Emmerichs\"}, {\"credit_id\": \"54959734c3a3686ae10045e0\", \"department\": \"Sound\", \"gender\": 0, \"id\": 1400906, \"job\": \"Sound Effects Editor\", \"name\": \"Christopher Scarabosio\"}, {\"credit_id\": \"549595dd92514130fc002d79\", \"department\": \"Production\", \"gender\": 0, \"id\": 1401784, \"job\": \"Production Supervisor\", \"name\": \"Jennifer Teves\"}, {\"credit_id\": \"549596009251413af70028cc\", \"department\": \"Production\", \"gender\": 0, \"id\": 1401785, \"job\": \"Production Manager\", \"name\": \"Brigitte Yorke\"}, {\"credit_id\": \"549596e892514130fc002d99\", \"department\": \"Sound\", \"gender\": 0, \"id\": 1401786, \"job\": \"Sound Effects Editor\", \"name\": \"Ken Fischer\"}, {\"credit_id\": \"549598229251412c4e002a1c\", \"department\": \"Crew\", \"gender\": 0, \"id\": 1401787, \"job\": \"Special Effects Coordinator\", \"name\": \"Iain Hutton\"}, {\"credit_id\": \"549598349251416e2b00432b\", \"department\": \"Crew\", \"gender\": 0, \"id\": 1401788, \"job\": \"Special Effects Coordinator\", \"name\": \"Steve Ingram\"}, {\"credit_id\": \"54959905c3a3686ae3004324\", \"department\": \"Visual Effects\", \"gender\": 0, \"id\": 1401789, \"job\": \"Visual Effects Producer\", \"name\": \"Joyce Cox\"}, {\"credit_id\": \"5495994b92514132ed002951\", \"department\": \"Visual Effects\", \"gender\": 0, \"id\": 1401790, \"job\": \"Visual Effects Producer\", \"name\": \"Jenny Foster\"}, {\"credit_id\": \"549599cbc3a3686ae1004613\", \"department\": \"Crew\", \"gender\": 0, \"id\": 1401791, \"job\": \"Visual Effects Editor\", \"name\": \"Christopher Marino\"}, {\"credit_id\": \"549599f2c3a3686ae100461e\", \"department\": \"Crew\", \"gender\": 0, \"id\": 1401792, \"job\": \"Visual Effects Editor\", \"name\": \"Jim Milton\"}, {\"credit_id\": \"54959a51c3a3686af3003eb5\", \"department\": \"Visual Effects\", \"gender\": 0, \"id\": 1401793, \"job\": \"Visual Effects Producer\", \"name\": \"Cyndi Ochs\"}, {\"credit_id\": \"54959a7cc3a36811530026f4\", \"department\": \"Crew\", \"gender\": 0, \"id\": 1401794, \"job\": \"Visual Effects Editor\", \"name\": \"Lucas Putnam\"}, {\"credit_id\": \"54959b91c3a3680ff5002cb4\", \"department\": \"Visual Effects\", \"gender\": 0, \"id\": 1401795, \"job\": \"Visual Effects Supervisor\", \"name\": \"Anthony \\'Max\\' Ivins\"}, {\"credit_id\": \"54959bb69251412c4e002a5f\", \"department\": \"Visual Effects\", \"gender\": 0, \"id\": 1401796, \"job\": \"Visual Effects Supervisor\", \"name\": \"John Knoll\"}, {\"credit_id\": \"54959cbbc3a3686ae3004391\", \"department\": \"Visual Effects\", \"gender\": 2, \"id\": 1401799, \"job\": \"Visual Effects Supervisor\", \"name\": \"Eric Saindon\"}, {\"credit_id\": \"54959d06c3a3686ae90043f6\", \"department\": \"Visual Effects\", \"gender\": 0, \"id\": 1401800, \"job\": \"Visual Effects Supervisor\", \"name\": \"Wayne Stables\"}, {\"credit_id\": \"54959d259251416e1e003f11\", \"department\": \"Visual Effects\", \"gender\": 0, \"id\": 1401801, \"job\": \"Visual Effects Supervisor\", \"name\": \"David Stinnett\"}, {\"credit_id\": \"54959db49251413af7002975\", \"department\": \"Visual Effects\", \"gender\": 0, \"id\": 1401803, \"job\": \"Visual Effects Supervisor\", \"name\": \"Guy Williams\"}, {\"credit_id\": \"54959de4c3a3681153002750\", \"department\": \"Crew\", \"gender\": 0, \"id\": 1401804, \"job\": \"Stunt Coordinator\", \"name\": \"Stuart Thorp\"}, {\"credit_id\": \"54959ef2c3a3680fc60027f2\", \"department\": \"Lighting\", \"gender\": 0, \"id\": 1401805, \"job\": \"Best Boy Electric\", \"name\": \"Giles Coburn\"}, {\"credit_id\": \"54959f07c3a3680fc60027f9\", \"department\": \"Camera\", \"gender\": 2, \"id\": 1401806, \"job\": \"Still Photographer\", \"name\": \"Mark Fellman\"}, {\"credit_id\": \"54959f47c3a3681153002774\", \"department\": \"Lighting\", \"gender\": 0, \"id\": 1401807, \"job\": \"Lighting Technician\", \"name\": \"Scott Sprague\"}, {\"credit_id\": \"54959f8cc3a36831b8001df2\", \"department\": \"Visual Effects\", \"gender\": 0, \"id\": 1401808, \"job\": \"Animation Director\", \"name\": \"Jeremy Hollobon\"}, {\"credit_id\": \"54959fa0c3a36831b8001dfb\", \"department\": \"Visual Effects\", \"gender\": 0, \"id\": 1401809, \"job\": \"Animation Director\", \"name\": \"Orlando Meunier\"}, {\"credit_id\": \"54959fb6c3a3686af3003f54\", \"department\": \"Visual Effects\", \"gender\": 0, \"id\": 1401810, \"job\": \"Animation Director\", \"name\": \"Taisuke Tanimura\"}, {\"credit_id\": \"54959fd2c3a36831b8001e02\", \"department\": \"Costume & Make-Up\", \"gender\": 0, \"id\": 1401812, \"job\": \"Set Costumer\", \"name\": \"Lilia Mishel Acevedo\"}, {\"credit_id\": \"54959ff9c3a3686ae300440c\", \"department\": \"Costume & Make-Up\", \"gender\": 0, \"id\": 1401814, \"job\": \"Set Costumer\", \"name\": \"Alejandro M. Hernandez\"}, {\"credit_id\": \"5495a0ddc3a3686ae10046fe\", \"department\": \"Editing\", \"gender\": 0, \"id\": 1401815, \"job\": \"Digital Intermediate\", \"name\": \"Marvin Hall\"}, {\"credit_id\": \"5495a1f7c3a3686ae3004443\", \"department\": \"Production\", \"gender\": 0, \"id\": 1401816, \"job\": \"Publicist\", \"name\": \"Judy Alley\"}, {\"credit_id\": \"5592b29fc3a36869d100002f\", \"department\": \"Crew\", \"gender\": 0, \"id\": 1418381, \"job\": \"CG Supervisor\", \"name\": \"Mike Perry\"}, {\"credit_id\": \"5592b23a9251415df8001081\", \"department\": \"Crew\", \"gender\": 0, \"id\": 1426854, \"job\": \"CG Supervisor\", \"name\": \"Andrew Morley\"}, {\"credit_id\": \"55491e1192514104c40002d8\", \"department\": \"Art\", \"gender\": 0, \"id\": 1438901, \"job\": \"Conceptual Design\", \"name\": \"Seth Engstrom\"}, {\"credit_id\": \"5525d5809251417276002b06\", \"department\": \"Crew\", \"gender\": 0, \"id\": 1447362, \"job\": \"Visual Effects Art Director\", \"name\": \"Eric Oliver\"}, {\"credit_id\": \"554427ca925141586500312a\", \"department\": \"Visual Effects\", \"gender\": 0, \"id\": 1447503, \"job\": \"Modeling\", \"name\": \"Matsune Suzuki\"}, {\"credit_id\": \"551906889251415aab001c88\", \"department\": \"Art\", \"gender\": 0, \"id\": 1447524, \"job\": \"Art Department Manager\", \"name\": \"Paul Tobin\"}, {\"credit_id\": \"5592af8492514152cc0010de\", \"department\": \"Costume & Make-Up\", \"gender\": 0, \"id\": 1452643, \"job\": \"Hairstylist\", \"name\": \"Roxane Griffin\"}, {\"credit_id\": \"553d3c109251415852001318\", \"department\": \"Lighting\", \"gender\": 0, \"id\": 1453938, \"job\": \"Lighting Artist\", \"name\": \"Arun Ram-Mohan\"}, {\"credit_id\": \"5592af4692514152d5001355\", \"department\": \"Costume & Make-Up\", \"gender\": 0, \"id\": 1457305, \"job\": \"Makeup Artist\", \"name\": \"Georgia Lockhart-Adams\"}, {\"credit_id\": \"5592b2eac3a36877470012a5\", \"department\": \"Crew\", \"gender\": 0, \"id\": 1466035, \"job\": \"CG Supervisor\", \"name\": \"Thrain Shadbolt\"}, {\"credit_id\": \"5592b032c3a36877450015f1\", \"department\": \"Crew\", \"gender\": 0, \"id\": 1483220, \"job\": \"CG Supervisor\", \"name\": \"Brad Alexander\"}, {\"credit_id\": \"5592b05592514152d80012f6\", \"department\": \"Crew\", \"gender\": 0, \"id\": 1483221, \"job\": \"CG Supervisor\", \"name\": \"Shadi Almassizadeh\"}, {\"credit_id\": \"5592b090c3a36877570010b5\", \"department\": \"Crew\", \"gender\": 0, \"id\": 1483222, \"job\": \"CG Supervisor\", \"name\": \"Simon Clutterbuck\"}, {\"credit_id\": \"5592b0dbc3a368774b00112c\", \"department\": \"Crew\", \"gender\": 0, \"id\": 1483223, \"job\": \"CG Supervisor\", \"name\": \"Graeme Demmocks\"}, {\"credit_id\": \"5592b0fe92514152db0010c1\", \"department\": \"Crew\", \"gender\": 0, \"id\": 1483224, \"job\": \"CG Supervisor\", \"name\": \"Adrian Fernandes\"}, {\"credit_id\": \"5592b11f9251415df8001059\", \"department\": \"Crew\", \"gender\": 0, \"id\": 1483225, \"job\": \"CG Supervisor\", \"name\": \"Mitch Gates\"}, {\"credit_id\": \"5592b15dc3a3687745001645\", \"department\": \"Crew\", \"gender\": 0, \"id\": 1483226, \"job\": \"CG Supervisor\", \"name\": \"Jerry Kung\"}, {\"credit_id\": \"5592b18e925141645a0004ae\", \"department\": \"Crew\", \"gender\": 0, \"id\": 1483227, \"job\": \"CG Supervisor\", \"name\": \"Andy Lomas\"}, {\"credit_id\": \"5592b1bfc3a368775d0010e7\", \"department\": \"Crew\", \"gender\": 0, \"id\": 1483228, \"job\": \"CG Supervisor\", \"name\": \"Sebastian Marino\"}, {\"credit_id\": \"5592b2049251415df8001078\", \"department\": \"Crew\", \"gender\": 0, \"id\": 1483229, \"job\": \"CG Supervisor\", \"name\": \"Matthias Menz\"}, {\"credit_id\": \"5592b27b92514152d800136a\", \"department\": \"Crew\", \"gender\": 0, \"id\": 1483230, \"job\": \"CG Supervisor\", \"name\": \"Sergei Nevshupov\"}, {\"credit_id\": \"5592b2c3c3a36869e800003c\", \"department\": \"Crew\", \"gender\": 0, \"id\": 1483231, \"job\": \"CG Supervisor\", \"name\": \"Philippe Rebours\"}, {\"credit_id\": \"5592b317c3a36877470012af\", \"department\": \"Crew\", \"gender\": 0, \"id\": 1483232, \"job\": \"CG Supervisor\", \"name\": \"Michael Takarangi\"}, {\"credit_id\": \"5592b345c3a36877470012bb\", \"department\": \"Crew\", \"gender\": 0, \"id\": 1483233, \"job\": \"CG Supervisor\", \"name\": \"David Weitzberg\"}, {\"credit_id\": \"5592b37cc3a368775100113b\", \"department\": \"Crew\", \"gender\": 0, \"id\": 1483234, \"job\": \"CG Supervisor\", \"name\": \"Ben White\"}, {\"credit_id\": \"573c8e2f9251413f5d000094\", \"department\": \"Crew\", \"gender\": 1, \"id\": 1621932, \"job\": \"Stunts\", \"name\": \"Min Windle\"}]'"
      ]
     },
     "execution_count": 23,
     "metadata": {},
     "output_type": "execute_result"
    }
   ],
   "source": [
    "movie_df['crew'][0]"
   ]
  },
  {
   "cell_type": "code",
   "execution_count": 24,
   "metadata": {},
   "outputs": [
    {
     "data": {
      "text/plain": [
       "0           [James Cameron]\n",
       "1          [Gore Verbinski]\n",
       "2              [Sam Mendes]\n",
       "3       [Christopher Nolan]\n",
       "4          [Andrew Stanton]\n",
       "               ...         \n",
       "4804     [Robert Rodriguez]\n",
       "4805         [Edward Burns]\n",
       "4806          [Scott Smith]\n",
       "4807          [Daniel Hsia]\n",
       "4808     [Brian Herzlinger]\n",
       "Name: crew, Length: 4806, dtype: object"
      ]
     },
     "execution_count": 24,
     "metadata": {},
     "output_type": "execute_result"
    }
   ],
   "source": [
    "def get_dir(obj):\n",
    "    L=[]\n",
    "    for i in ast.literal_eval(obj):\n",
    "        if i['job']=='Director':\n",
    "            L.append(i['name'])\n",
    "            break\n",
    "    return L\n",
    "movie_df['crew'].apply(get_dir)"
   ]
  },
  {
   "cell_type": "code",
   "execution_count": 25,
   "metadata": {},
   "outputs": [],
   "source": [
    "movie_df['crew']=movie_df['crew'].apply(get_dir)"
   ]
  },
  {
   "cell_type": "markdown",
   "metadata": {},
   "source": [
    "Overview"
   ]
  },
  {
   "cell_type": "code",
   "execution_count": 26,
   "metadata": {},
   "outputs": [
    {
     "data": {
      "text/plain": [
       "'In the 22nd century, a paraplegic Marine is dispatched to the moon Pandora on a unique mission, but becomes torn between following orders and protecting an alien civilization.'"
      ]
     },
     "execution_count": 26,
     "metadata": {},
     "output_type": "execute_result"
    }
   ],
   "source": [
    "movie_df['overview'][0]"
   ]
  },
  {
   "cell_type": "code",
   "execution_count": 27,
   "metadata": {},
   "outputs": [
    {
     "data": {
      "text/plain": [
       "0       [In, the, 22nd, century,, a, paraplegic, Marin...\n",
       "1       [Captain, Barbossa,, long, believed, to, be, d...\n",
       "2       [A, cryptic, message, from, Bond’s, past, send...\n",
       "3       [Following, the, death, of, District, Attorney...\n",
       "4       [John, Carter, is, a, war-weary,, former, mili...\n",
       "                              ...                        \n",
       "4804    [El, Mariachi, just, wants, to, play, his, gui...\n",
       "4805    [A, newlywed, couple's, honeymoon, is, upended...\n",
       "4806    [\"Signed,, Sealed,, Delivered\", introduces, a,...\n",
       "4807    [When, ambitious, New, York, attorney, Sam, is...\n",
       "4808    [Ever, since, the, second, grade, when, he, fi...\n",
       "Name: overview, Length: 4806, dtype: object"
      ]
     },
     "execution_count": 27,
     "metadata": {},
     "output_type": "execute_result"
    }
   ],
   "source": [
    "movie_df['overview'].apply(lambda x:x.split())"
   ]
  },
  {
   "cell_type": "code",
   "execution_count": 28,
   "metadata": {},
   "outputs": [
    {
     "data": {
      "text/html": [
       "<div>\n",
       "<style scoped>\n",
       "    .dataframe tbody tr th:only-of-type {\n",
       "        vertical-align: middle;\n",
       "    }\n",
       "\n",
       "    .dataframe tbody tr th {\n",
       "        vertical-align: top;\n",
       "    }\n",
       "\n",
       "    .dataframe thead th {\n",
       "        text-align: right;\n",
       "    }\n",
       "</style>\n",
       "<table border=\"1\" class=\"dataframe\">\n",
       "  <thead>\n",
       "    <tr style=\"text-align: right;\">\n",
       "      <th></th>\n",
       "      <th>movie_id</th>\n",
       "      <th>title</th>\n",
       "      <th>cast</th>\n",
       "      <th>crew</th>\n",
       "      <th>overview</th>\n",
       "      <th>genres</th>\n",
       "      <th>keywords</th>\n",
       "    </tr>\n",
       "  </thead>\n",
       "  <tbody>\n",
       "    <tr>\n",
       "      <th>0</th>\n",
       "      <td>19995</td>\n",
       "      <td>Avatar</td>\n",
       "      <td>[Sam Worthington, Zoe Saldana, Sigourney Weaver]</td>\n",
       "      <td>[James Cameron]</td>\n",
       "      <td>[In, the, 22nd, century,, a, paraplegic, Marin...</td>\n",
       "      <td>[Action, Adventure, Fantasy, Science Fiction]</td>\n",
       "      <td>[culture clash, future, space war, space colon...</td>\n",
       "    </tr>\n",
       "    <tr>\n",
       "      <th>1</th>\n",
       "      <td>285</td>\n",
       "      <td>Pirates of the Caribbean: At World's End</td>\n",
       "      <td>[Johnny Depp, Orlando Bloom, Keira Knightley]</td>\n",
       "      <td>[Gore Verbinski]</td>\n",
       "      <td>[Captain, Barbossa,, long, believed, to, be, d...</td>\n",
       "      <td>[Adventure, Fantasy, Action]</td>\n",
       "      <td>[ocean, drug abuse, exotic island, east india ...</td>\n",
       "    </tr>\n",
       "    <tr>\n",
       "      <th>2</th>\n",
       "      <td>206647</td>\n",
       "      <td>Spectre</td>\n",
       "      <td>[Daniel Craig, Christoph Waltz, Léa Seydoux]</td>\n",
       "      <td>[Sam Mendes]</td>\n",
       "      <td>[A, cryptic, message, from, Bond’s, past, send...</td>\n",
       "      <td>[Action, Adventure, Crime]</td>\n",
       "      <td>[spy, based on novel, secret agent, sequel, mi...</td>\n",
       "    </tr>\n",
       "    <tr>\n",
       "      <th>3</th>\n",
       "      <td>49026</td>\n",
       "      <td>The Dark Knight Rises</td>\n",
       "      <td>[Christian Bale, Michael Caine, Gary Oldman]</td>\n",
       "      <td>[Christopher Nolan]</td>\n",
       "      <td>[Following, the, death, of, District, Attorney...</td>\n",
       "      <td>[Action, Crime, Drama, Thriller]</td>\n",
       "      <td>[dc comics, crime fighter, terrorist, secret i...</td>\n",
       "    </tr>\n",
       "    <tr>\n",
       "      <th>4</th>\n",
       "      <td>49529</td>\n",
       "      <td>John Carter</td>\n",
       "      <td>[Taylor Kitsch, Lynn Collins, Samantha Morton]</td>\n",
       "      <td>[Andrew Stanton]</td>\n",
       "      <td>[John, Carter, is, a, war-weary,, former, mili...</td>\n",
       "      <td>[Action, Adventure, Science Fiction]</td>\n",
       "      <td>[based on novel, mars, medallion, space travel...</td>\n",
       "    </tr>\n",
       "  </tbody>\n",
       "</table>\n",
       "</div>"
      ],
      "text/plain": [
       "   movie_id                                     title  \\\n",
       "0     19995                                    Avatar   \n",
       "1       285  Pirates of the Caribbean: At World's End   \n",
       "2    206647                                   Spectre   \n",
       "3     49026                     The Dark Knight Rises   \n",
       "4     49529                               John Carter   \n",
       "\n",
       "                                               cast                 crew  \\\n",
       "0  [Sam Worthington, Zoe Saldana, Sigourney Weaver]      [James Cameron]   \n",
       "1     [Johnny Depp, Orlando Bloom, Keira Knightley]     [Gore Verbinski]   \n",
       "2      [Daniel Craig, Christoph Waltz, Léa Seydoux]         [Sam Mendes]   \n",
       "3      [Christian Bale, Michael Caine, Gary Oldman]  [Christopher Nolan]   \n",
       "4    [Taylor Kitsch, Lynn Collins, Samantha Morton]     [Andrew Stanton]   \n",
       "\n",
       "                                            overview  \\\n",
       "0  [In, the, 22nd, century,, a, paraplegic, Marin...   \n",
       "1  [Captain, Barbossa,, long, believed, to, be, d...   \n",
       "2  [A, cryptic, message, from, Bond’s, past, send...   \n",
       "3  [Following, the, death, of, District, Attorney...   \n",
       "4  [John, Carter, is, a, war-weary,, former, mili...   \n",
       "\n",
       "                                          genres  \\\n",
       "0  [Action, Adventure, Fantasy, Science Fiction]   \n",
       "1                   [Adventure, Fantasy, Action]   \n",
       "2                     [Action, Adventure, Crime]   \n",
       "3               [Action, Crime, Drama, Thriller]   \n",
       "4           [Action, Adventure, Science Fiction]   \n",
       "\n",
       "                                            keywords  \n",
       "0  [culture clash, future, space war, space colon...  \n",
       "1  [ocean, drug abuse, exotic island, east india ...  \n",
       "2  [spy, based on novel, secret agent, sequel, mi...  \n",
       "3  [dc comics, crime fighter, terrorist, secret i...  \n",
       "4  [based on novel, mars, medallion, space travel...  "
      ]
     },
     "execution_count": 28,
     "metadata": {},
     "output_type": "execute_result"
    }
   ],
   "source": [
    "movie_df['overview']=movie_df['overview'].apply(lambda x:x.split())\n",
    "movie_df.head()"
   ]
  },
  {
   "cell_type": "code",
   "execution_count": 30,
   "metadata": {},
   "outputs": [
    {
     "data": {
      "text/plain": [
       "0       [Action, Adventure, Fantasy, ScienceFiction]\n",
       "1                       [Adventure, Fantasy, Action]\n",
       "2                         [Action, Adventure, Crime]\n",
       "3                   [Action, Crime, Drama, Thriller]\n",
       "4                [Action, Adventure, ScienceFiction]\n",
       "                            ...                     \n",
       "4804                       [Action, Crime, Thriller]\n",
       "4805                               [Comedy, Romance]\n",
       "4806               [Comedy, Drama, Romance, TVMovie]\n",
       "4807                                              []\n",
       "4808                                   [Documentary]\n",
       "Name: genres, Length: 4806, dtype: object"
      ]
     },
     "execution_count": 30,
     "metadata": {},
     "output_type": "execute_result"
    }
   ],
   "source": [
    "# replacing the gap between words Science Fiction would became ScienceFiction\n",
    "movie_df['genres'].apply(lambda x: [i.replace(' ','') for i in x])"
   ]
  },
  {
   "cell_type": "code",
   "execution_count": 31,
   "metadata": {},
   "outputs": [],
   "source": [
    "movie_df['genres']=movie_df['genres'].apply(lambda x: [i.replace(' ','') for i in x])\n",
    "movie_df['crew']=movie_df['crew'].apply(lambda x: [i.replace(' ','') for i in x])\n",
    "movie_df['cast']=movie_df['cast'].apply(lambda x: [i.replace(' ','') for i in x])"
   ]
  },
  {
   "cell_type": "code",
   "execution_count": 32,
   "metadata": {},
   "outputs": [
    {
     "data": {
      "text/html": [
       "<div>\n",
       "<style scoped>\n",
       "    .dataframe tbody tr th:only-of-type {\n",
       "        vertical-align: middle;\n",
       "    }\n",
       "\n",
       "    .dataframe tbody tr th {\n",
       "        vertical-align: top;\n",
       "    }\n",
       "\n",
       "    .dataframe thead th {\n",
       "        text-align: right;\n",
       "    }\n",
       "</style>\n",
       "<table border=\"1\" class=\"dataframe\">\n",
       "  <thead>\n",
       "    <tr style=\"text-align: right;\">\n",
       "      <th></th>\n",
       "      <th>movie_id</th>\n",
       "      <th>title</th>\n",
       "      <th>cast</th>\n",
       "      <th>crew</th>\n",
       "      <th>overview</th>\n",
       "      <th>genres</th>\n",
       "      <th>keywords</th>\n",
       "    </tr>\n",
       "  </thead>\n",
       "  <tbody>\n",
       "    <tr>\n",
       "      <th>0</th>\n",
       "      <td>19995</td>\n",
       "      <td>Avatar</td>\n",
       "      <td>[SamWorthington, ZoeSaldana, SigourneyWeaver]</td>\n",
       "      <td>[JamesCameron]</td>\n",
       "      <td>[In, the, 22nd, century,, a, paraplegic, Marin...</td>\n",
       "      <td>[Action, Adventure, Fantasy, ScienceFiction]</td>\n",
       "      <td>[culture clash, future, space war, space colon...</td>\n",
       "    </tr>\n",
       "    <tr>\n",
       "      <th>1</th>\n",
       "      <td>285</td>\n",
       "      <td>Pirates of the Caribbean: At World's End</td>\n",
       "      <td>[JohnnyDepp, OrlandoBloom, KeiraKnightley]</td>\n",
       "      <td>[GoreVerbinski]</td>\n",
       "      <td>[Captain, Barbossa,, long, believed, to, be, d...</td>\n",
       "      <td>[Adventure, Fantasy, Action]</td>\n",
       "      <td>[ocean, drug abuse, exotic island, east india ...</td>\n",
       "    </tr>\n",
       "    <tr>\n",
       "      <th>2</th>\n",
       "      <td>206647</td>\n",
       "      <td>Spectre</td>\n",
       "      <td>[DanielCraig, ChristophWaltz, LéaSeydoux]</td>\n",
       "      <td>[SamMendes]</td>\n",
       "      <td>[A, cryptic, message, from, Bond’s, past, send...</td>\n",
       "      <td>[Action, Adventure, Crime]</td>\n",
       "      <td>[spy, based on novel, secret agent, sequel, mi...</td>\n",
       "    </tr>\n",
       "  </tbody>\n",
       "</table>\n",
       "</div>"
      ],
      "text/plain": [
       "   movie_id                                     title  \\\n",
       "0     19995                                    Avatar   \n",
       "1       285  Pirates of the Caribbean: At World's End   \n",
       "2    206647                                   Spectre   \n",
       "\n",
       "                                            cast             crew  \\\n",
       "0  [SamWorthington, ZoeSaldana, SigourneyWeaver]   [JamesCameron]   \n",
       "1     [JohnnyDepp, OrlandoBloom, KeiraKnightley]  [GoreVerbinski]   \n",
       "2      [DanielCraig, ChristophWaltz, LéaSeydoux]      [SamMendes]   \n",
       "\n",
       "                                            overview  \\\n",
       "0  [In, the, 22nd, century,, a, paraplegic, Marin...   \n",
       "1  [Captain, Barbossa,, long, believed, to, be, d...   \n",
       "2  [A, cryptic, message, from, Bond’s, past, send...   \n",
       "\n",
       "                                         genres  \\\n",
       "0  [Action, Adventure, Fantasy, ScienceFiction]   \n",
       "1                  [Adventure, Fantasy, Action]   \n",
       "2                    [Action, Adventure, Crime]   \n",
       "\n",
       "                                            keywords  \n",
       "0  [culture clash, future, space war, space colon...  \n",
       "1  [ocean, drug abuse, exotic island, east india ...  \n",
       "2  [spy, based on novel, secret agent, sequel, mi...  "
      ]
     },
     "execution_count": 32,
     "metadata": {},
     "output_type": "execute_result"
    }
   ],
   "source": [
    "movie_df.head(3)"
   ]
  },
  {
   "cell_type": "code",
   "execution_count": 30,
   "metadata": {},
   "outputs": [],
   "source": [
    "# movie_df['keywords']=movie_df['keywords'].apply(convert)"
   ]
  },
  {
   "cell_type": "markdown",
   "metadata": {},
   "source": [
    "Create tags that can be used for comparing similarity between two movies"
   ]
  },
  {
   "cell_type": "code",
   "execution_count": 33,
   "metadata": {},
   "outputs": [
    {
     "data": {
      "text/html": [
       "<div>\n",
       "<style scoped>\n",
       "    .dataframe tbody tr th:only-of-type {\n",
       "        vertical-align: middle;\n",
       "    }\n",
       "\n",
       "    .dataframe tbody tr th {\n",
       "        vertical-align: top;\n",
       "    }\n",
       "\n",
       "    .dataframe thead th {\n",
       "        text-align: right;\n",
       "    }\n",
       "</style>\n",
       "<table border=\"1\" class=\"dataframe\">\n",
       "  <thead>\n",
       "    <tr style=\"text-align: right;\">\n",
       "      <th></th>\n",
       "      <th>movie_id</th>\n",
       "      <th>title</th>\n",
       "      <th>cast</th>\n",
       "      <th>crew</th>\n",
       "      <th>overview</th>\n",
       "      <th>genres</th>\n",
       "      <th>keywords</th>\n",
       "      <th>tags</th>\n",
       "    </tr>\n",
       "  </thead>\n",
       "  <tbody>\n",
       "    <tr>\n",
       "      <th>0</th>\n",
       "      <td>19995</td>\n",
       "      <td>Avatar</td>\n",
       "      <td>[SamWorthington, ZoeSaldana, SigourneyWeaver]</td>\n",
       "      <td>[JamesCameron]</td>\n",
       "      <td>[In, the, 22nd, century,, a, paraplegic, Marin...</td>\n",
       "      <td>[Action, Adventure, Fantasy, ScienceFiction]</td>\n",
       "      <td>[culture clash, future, space war, space colon...</td>\n",
       "      <td>[In, the, 22nd, century,, a, paraplegic, Marin...</td>\n",
       "    </tr>\n",
       "    <tr>\n",
       "      <th>1</th>\n",
       "      <td>285</td>\n",
       "      <td>Pirates of the Caribbean: At World's End</td>\n",
       "      <td>[JohnnyDepp, OrlandoBloom, KeiraKnightley]</td>\n",
       "      <td>[GoreVerbinski]</td>\n",
       "      <td>[Captain, Barbossa,, long, believed, to, be, d...</td>\n",
       "      <td>[Adventure, Fantasy, Action]</td>\n",
       "      <td>[ocean, drug abuse, exotic island, east india ...</td>\n",
       "      <td>[Captain, Barbossa,, long, believed, to, be, d...</td>\n",
       "    </tr>\n",
       "  </tbody>\n",
       "</table>\n",
       "</div>"
      ],
      "text/plain": [
       "   movie_id                                     title  \\\n",
       "0     19995                                    Avatar   \n",
       "1       285  Pirates of the Caribbean: At World's End   \n",
       "\n",
       "                                            cast             crew  \\\n",
       "0  [SamWorthington, ZoeSaldana, SigourneyWeaver]   [JamesCameron]   \n",
       "1     [JohnnyDepp, OrlandoBloom, KeiraKnightley]  [GoreVerbinski]   \n",
       "\n",
       "                                            overview  \\\n",
       "0  [In, the, 22nd, century,, a, paraplegic, Marin...   \n",
       "1  [Captain, Barbossa,, long, believed, to, be, d...   \n",
       "\n",
       "                                         genres  \\\n",
       "0  [Action, Adventure, Fantasy, ScienceFiction]   \n",
       "1                  [Adventure, Fantasy, Action]   \n",
       "\n",
       "                                            keywords  \\\n",
       "0  [culture clash, future, space war, space colon...   \n",
       "1  [ocean, drug abuse, exotic island, east india ...   \n",
       "\n",
       "                                                tags  \n",
       "0  [In, the, 22nd, century,, a, paraplegic, Marin...  \n",
       "1  [Captain, Barbossa,, long, believed, to, be, d...  "
      ]
     },
     "execution_count": 33,
     "metadata": {},
     "output_type": "execute_result"
    }
   ],
   "source": [
    "movie_df['tags']=movie_df['overview']+movie_df['genres']+movie_df['keywords']+movie_df['cast']+movie_df['crew']\n",
    "movie_df.head(2)"
   ]
  },
  {
   "cell_type": "code",
   "execution_count": 34,
   "metadata": {},
   "outputs": [
    {
     "data": {
      "text/html": [
       "<div>\n",
       "<style scoped>\n",
       "    .dataframe tbody tr th:only-of-type {\n",
       "        vertical-align: middle;\n",
       "    }\n",
       "\n",
       "    .dataframe tbody tr th {\n",
       "        vertical-align: top;\n",
       "    }\n",
       "\n",
       "    .dataframe thead th {\n",
       "        text-align: right;\n",
       "    }\n",
       "</style>\n",
       "<table border=\"1\" class=\"dataframe\">\n",
       "  <thead>\n",
       "    <tr style=\"text-align: right;\">\n",
       "      <th></th>\n",
       "      <th>movie_id</th>\n",
       "      <th>title</th>\n",
       "      <th>tags</th>\n",
       "    </tr>\n",
       "  </thead>\n",
       "  <tbody>\n",
       "    <tr>\n",
       "      <th>0</th>\n",
       "      <td>19995</td>\n",
       "      <td>Avatar</td>\n",
       "      <td>[In, the, 22nd, century,, a, paraplegic, Marin...</td>\n",
       "    </tr>\n",
       "    <tr>\n",
       "      <th>1</th>\n",
       "      <td>285</td>\n",
       "      <td>Pirates of the Caribbean: At World's End</td>\n",
       "      <td>[Captain, Barbossa,, long, believed, to, be, d...</td>\n",
       "    </tr>\n",
       "    <tr>\n",
       "      <th>2</th>\n",
       "      <td>206647</td>\n",
       "      <td>Spectre</td>\n",
       "      <td>[A, cryptic, message, from, Bond’s, past, send...</td>\n",
       "    </tr>\n",
       "    <tr>\n",
       "      <th>3</th>\n",
       "      <td>49026</td>\n",
       "      <td>The Dark Knight Rises</td>\n",
       "      <td>[Following, the, death, of, District, Attorney...</td>\n",
       "    </tr>\n",
       "    <tr>\n",
       "      <th>4</th>\n",
       "      <td>49529</td>\n",
       "      <td>John Carter</td>\n",
       "      <td>[John, Carter, is, a, war-weary,, former, mili...</td>\n",
       "    </tr>\n",
       "  </tbody>\n",
       "</table>\n",
       "</div>"
      ],
      "text/plain": [
       "   movie_id                                     title  \\\n",
       "0     19995                                    Avatar   \n",
       "1       285  Pirates of the Caribbean: At World's End   \n",
       "2    206647                                   Spectre   \n",
       "3     49026                     The Dark Knight Rises   \n",
       "4     49529                               John Carter   \n",
       "\n",
       "                                                tags  \n",
       "0  [In, the, 22nd, century,, a, paraplegic, Marin...  \n",
       "1  [Captain, Barbossa,, long, believed, to, be, d...  \n",
       "2  [A, cryptic, message, from, Bond’s, past, send...  \n",
       "3  [Following, the, death, of, District, Attorney...  \n",
       "4  [John, Carter, is, a, war-weary,, former, mili...  "
      ]
     },
     "execution_count": 34,
     "metadata": {},
     "output_type": "execute_result"
    }
   ],
   "source": [
    "# new_df\n",
    "new_df=movie_df[['movie_id','title','tags']]\n",
    "new_df.head()"
   ]
  },
  {
   "cell_type": "code",
   "execution_count": 35,
   "metadata": {},
   "outputs": [],
   "source": [
    "new_df['tags']=new_df['tags'].apply(lambda x: ' '.join(x))"
   ]
  },
  {
   "cell_type": "code",
   "execution_count": 36,
   "metadata": {},
   "outputs": [
    {
     "data": {
      "text/plain": [
       "'In the 22nd century, a paraplegic Marine is dispatched to the moon Pandora on a unique mission, but becomes torn between following orders and protecting an alien civilization. Action Adventure Fantasy ScienceFiction culture clash future space war space colony society space travel futuristic romance space alien tribe alien planet cgi marine soldier battle love affair anti war power relations mind and soul 3d SamWorthington ZoeSaldana SigourneyWeaver JamesCameron'"
      ]
     },
     "execution_count": 36,
     "metadata": {},
     "output_type": "execute_result"
    }
   ],
   "source": [
    "new_df['tags'][0]"
   ]
  },
  {
   "cell_type": "code",
   "execution_count": 37,
   "metadata": {},
   "outputs": [
    {
     "data": {
      "text/html": [
       "<div>\n",
       "<style scoped>\n",
       "    .dataframe tbody tr th:only-of-type {\n",
       "        vertical-align: middle;\n",
       "    }\n",
       "\n",
       "    .dataframe tbody tr th {\n",
       "        vertical-align: top;\n",
       "    }\n",
       "\n",
       "    .dataframe thead th {\n",
       "        text-align: right;\n",
       "    }\n",
       "</style>\n",
       "<table border=\"1\" class=\"dataframe\">\n",
       "  <thead>\n",
       "    <tr style=\"text-align: right;\">\n",
       "      <th></th>\n",
       "      <th>movie_id</th>\n",
       "      <th>title</th>\n",
       "      <th>tags</th>\n",
       "    </tr>\n",
       "  </thead>\n",
       "  <tbody>\n",
       "    <tr>\n",
       "      <th>0</th>\n",
       "      <td>19995</td>\n",
       "      <td>Avatar</td>\n",
       "      <td>In the 22nd century, a paraplegic Marine is di...</td>\n",
       "    </tr>\n",
       "    <tr>\n",
       "      <th>1</th>\n",
       "      <td>285</td>\n",
       "      <td>Pirates of the Caribbean: At World's End</td>\n",
       "      <td>Captain Barbossa, long believed to be dead, ha...</td>\n",
       "    </tr>\n",
       "    <tr>\n",
       "      <th>2</th>\n",
       "      <td>206647</td>\n",
       "      <td>Spectre</td>\n",
       "      <td>A cryptic message from Bond’s past sends him o...</td>\n",
       "    </tr>\n",
       "    <tr>\n",
       "      <th>3</th>\n",
       "      <td>49026</td>\n",
       "      <td>The Dark Knight Rises</td>\n",
       "      <td>Following the death of District Attorney Harve...</td>\n",
       "    </tr>\n",
       "    <tr>\n",
       "      <th>4</th>\n",
       "      <td>49529</td>\n",
       "      <td>John Carter</td>\n",
       "      <td>John Carter is a war-weary, former military ca...</td>\n",
       "    </tr>\n",
       "  </tbody>\n",
       "</table>\n",
       "</div>"
      ],
      "text/plain": [
       "   movie_id                                     title  \\\n",
       "0     19995                                    Avatar   \n",
       "1       285  Pirates of the Caribbean: At World's End   \n",
       "2    206647                                   Spectre   \n",
       "3     49026                     The Dark Knight Rises   \n",
       "4     49529                               John Carter   \n",
       "\n",
       "                                                tags  \n",
       "0  In the 22nd century, a paraplegic Marine is di...  \n",
       "1  Captain Barbossa, long believed to be dead, ha...  \n",
       "2  A cryptic message from Bond’s past sends him o...  \n",
       "3  Following the death of District Attorney Harve...  \n",
       "4  John Carter is a war-weary, former military ca...  "
      ]
     },
     "execution_count": 37,
     "metadata": {},
     "output_type": "execute_result"
    }
   ],
   "source": [
    "new_df.head()"
   ]
  },
  {
   "cell_type": "markdown",
   "metadata": {},
   "source": [
    "Use Lemmatization to reduce a word into its root_word"
   ]
  },
  {
   "cell_type": "code",
   "execution_count": 38,
   "metadata": {},
   "outputs": [],
   "source": [
    "from nltk.stem.wordnet import WordNetLemmatizer\n",
    "\n",
    "wl = WordNetLemmatizer()"
   ]
  },
  {
   "cell_type": "code",
   "execution_count": 41,
   "metadata": {},
   "outputs": [
    {
     "data": {
      "text/plain": [
       "('amaze', 'fulfil')"
      ]
     },
     "execution_count": 41,
     "metadata": {},
     "output_type": "execute_result"
    }
   ],
   "source": [
    "wl.lemmatize('amazing',pos='v'),wl.lemmatize('fulfilling',pos='v')"
   ]
  },
  {
   "cell_type": "code",
   "execution_count": 42,
   "metadata": {},
   "outputs": [
    {
     "data": {
      "text/plain": [
       "0       In the 22nd century, a paraplegic Marine be di...\n",
       "1       Captain Barbossa, long believe to be dead, hav...\n",
       "2       A cryptic message from Bond’s past send him on...\n",
       "3       Following the death of District Attorney Harve...\n",
       "4       John Carter be a war-weary, former military ca...\n",
       "                              ...                        \n",
       "4804    El Mariachi just want to play his guitar and c...\n",
       "4805    A newlywed couple's honeymoon be upend by the ...\n",
       "4806    \"Signed, Sealed, Delivered\" introduce a dedica...\n",
       "4807    When ambitious New York attorney Sam be send t...\n",
       "4808    Ever since the second grade when he first saw ...\n",
       "Name: tags, Length: 4806, dtype: object"
      ]
     },
     "execution_count": 42,
     "metadata": {},
     "output_type": "execute_result"
    }
   ],
   "source": [
    "def lemmatize(text):\n",
    "    y = []\n",
    "    for i in text.split():\n",
    "        y.append(wl.lemmatize(i,pos='v'))\n",
    "    return ' '.join(y)\n",
    "new_df['tags'].apply(lemmatize)"
   ]
  },
  {
   "cell_type": "code",
   "execution_count": 43,
   "metadata": {},
   "outputs": [],
   "source": [
    "new_df['tags']=new_df['tags'].apply(lemmatize)"
   ]
  },
  {
   "cell_type": "code",
   "execution_count": 44,
   "metadata": {},
   "outputs": [
    {
     "data": {
      "text/html": [
       "<div>\n",
       "<style scoped>\n",
       "    .dataframe tbody tr th:only-of-type {\n",
       "        vertical-align: middle;\n",
       "    }\n",
       "\n",
       "    .dataframe tbody tr th {\n",
       "        vertical-align: top;\n",
       "    }\n",
       "\n",
       "    .dataframe thead th {\n",
       "        text-align: right;\n",
       "    }\n",
       "</style>\n",
       "<table border=\"1\" class=\"dataframe\">\n",
       "  <thead>\n",
       "    <tr style=\"text-align: right;\">\n",
       "      <th></th>\n",
       "      <th>movie_id</th>\n",
       "      <th>title</th>\n",
       "      <th>tags</th>\n",
       "    </tr>\n",
       "  </thead>\n",
       "  <tbody>\n",
       "    <tr>\n",
       "      <th>0</th>\n",
       "      <td>19995</td>\n",
       "      <td>Avatar</td>\n",
       "      <td>In the 22nd century, a paraplegic Marine be di...</td>\n",
       "    </tr>\n",
       "    <tr>\n",
       "      <th>1</th>\n",
       "      <td>285</td>\n",
       "      <td>Pirates of the Caribbean: At World's End</td>\n",
       "      <td>Captain Barbossa, long believe to be dead, hav...</td>\n",
       "    </tr>\n",
       "    <tr>\n",
       "      <th>2</th>\n",
       "      <td>206647</td>\n",
       "      <td>Spectre</td>\n",
       "      <td>A cryptic message from Bond’s past send him on...</td>\n",
       "    </tr>\n",
       "    <tr>\n",
       "      <th>3</th>\n",
       "      <td>49026</td>\n",
       "      <td>The Dark Knight Rises</td>\n",
       "      <td>Following the death of District Attorney Harve...</td>\n",
       "    </tr>\n",
       "    <tr>\n",
       "      <th>4</th>\n",
       "      <td>49529</td>\n",
       "      <td>John Carter</td>\n",
       "      <td>John Carter be a war-weary, former military ca...</td>\n",
       "    </tr>\n",
       "  </tbody>\n",
       "</table>\n",
       "</div>"
      ],
      "text/plain": [
       "   movie_id                                     title  \\\n",
       "0     19995                                    Avatar   \n",
       "1       285  Pirates of the Caribbean: At World's End   \n",
       "2    206647                                   Spectre   \n",
       "3     49026                     The Dark Knight Rises   \n",
       "4     49529                               John Carter   \n",
       "\n",
       "                                                tags  \n",
       "0  In the 22nd century, a paraplegic Marine be di...  \n",
       "1  Captain Barbossa, long believe to be dead, hav...  \n",
       "2  A cryptic message from Bond’s past send him on...  \n",
       "3  Following the death of District Attorney Harve...  \n",
       "4  John Carter be a war-weary, former military ca...  "
      ]
     },
     "execution_count": 44,
     "metadata": {},
     "output_type": "execute_result"
    }
   ],
   "source": [
    "new_df.head()"
   ]
  },
  {
   "cell_type": "markdown",
   "metadata": {},
   "source": [
    "Use CountVectorizer to extract Top 6000 Words frequency wise and turn them into vectors.\n",
    "<Br/>\n",
    "So Final Array would be 4806 X 6000 size, 4806 are rows and 6000 are vectors of words"
   ]
  },
  {
   "cell_type": "code",
   "execution_count": 45,
   "metadata": {},
   "outputs": [],
   "source": [
    "from sklearn.feature_extraction.text import CountVectorizer\n",
    "\n",
    "cv = CountVectorizer(max_features=6000,stop_words='english')"
   ]
  },
  {
   "cell_type": "code",
   "execution_count": 46,
   "metadata": {},
   "outputs": [
    {
     "data": {
      "text/plain": [
       "(4806, 6000)"
      ]
     },
     "execution_count": 46,
     "metadata": {},
     "output_type": "execute_result"
    }
   ],
   "source": [
    "cv.fit_transform(new_df['tags']).toarray().shape"
   ]
  },
  {
   "cell_type": "code",
   "execution_count": 47,
   "metadata": {},
   "outputs": [
    {
     "data": {
      "text/plain": [
       "array([[0, 0, 0, ..., 0, 0, 0],\n",
       "       [0, 0, 0, ..., 0, 0, 0],\n",
       "       [0, 0, 0, ..., 0, 0, 0],\n",
       "       ...,\n",
       "       [0, 0, 0, ..., 0, 0, 0],\n",
       "       [0, 0, 0, ..., 0, 0, 0],\n",
       "       [0, 0, 0, ..., 0, 0, 0]], dtype=int64)"
      ]
     },
     "execution_count": 47,
     "metadata": {},
     "output_type": "execute_result"
    }
   ],
   "source": [
    "vectors = cv.fit_transform(new_df['tags']).toarray()\n",
    "vectors"
   ]
  },
  {
   "cell_type": "code",
   "execution_count": 48,
   "metadata": {},
   "outputs": [
    {
     "data": {
      "text/plain": [
       "6000"
      ]
     },
     "execution_count": 48,
     "metadata": {},
     "output_type": "execute_result"
    }
   ],
   "source": [
    "len(cv.get_feature_names_out())"
   ]
  },
  {
   "cell_type": "code",
   "execution_count": 49,
   "metadata": {},
   "outputs": [
    {
     "data": {
      "text/plain": [
       "array(['000', '007', '10', ..., 'zoo', 'zooeydeschanel', 'zookeeper'],\n",
       "      dtype=object)"
      ]
     },
     "execution_count": 49,
     "metadata": {},
     "output_type": "execute_result"
    }
   ],
   "source": [
    "cv.get_feature_names_out()"
   ]
  },
  {
   "cell_type": "markdown",
   "metadata": {},
   "source": [
    "Use cosine similarity to get the similarity between two vectors"
   ]
  },
  {
   "cell_type": "code",
   "execution_count": 50,
   "metadata": {},
   "outputs": [],
   "source": [
    "from sklearn.metrics.pairwise import cosine_similarity"
   ]
  },
  {
   "cell_type": "code",
   "execution_count": 51,
   "metadata": {},
   "outputs": [
    {
     "data": {
      "text/plain": [
       "(4806, 4806)"
      ]
     },
     "execution_count": 51,
     "metadata": {},
     "output_type": "execute_result"
    }
   ],
   "source": [
    "cosine_similarity(vectors).shape"
   ]
  },
  {
   "cell_type": "markdown",
   "metadata": {},
   "source": [
    "Our Matrix Represents similarity in the following way\n",
    "```\n",
    "[\n",
    "    similarity_with_first_vector,similarity_with_second_vector,similarity_with_third_vector,\n",
    "....,similarity_with_nth_vector\n",
    "]\n",
    "```"
   ]
  },
  {
   "cell_type": "code",
   "execution_count": 52,
   "metadata": {},
   "outputs": [],
   "source": [
    "similarity=cosine_similarity(vectors)"
   ]
  },
  {
   "cell_type": "code",
   "execution_count": 53,
   "metadata": {},
   "outputs": [
    {
     "data": {
      "text/plain": [
       "(array([1.        , 0.0727393 , 0.05157106, ..., 0.03333333, 0.01840525,\n",
       "        0.        ]),\n",
       " (4806,))"
      ]
     },
     "execution_count": 53,
     "metadata": {},
     "output_type": "execute_result"
    }
   ],
   "source": [
    "similarity[0],similarity[0].shape"
   ]
  },
  {
   "cell_type": "code",
   "execution_count": 54,
   "metadata": {},
   "outputs": [
    {
     "data": {
      "text/html": [
       "<div>\n",
       "<style scoped>\n",
       "    .dataframe tbody tr th:only-of-type {\n",
       "        vertical-align: middle;\n",
       "    }\n",
       "\n",
       "    .dataframe tbody tr th {\n",
       "        vertical-align: top;\n",
       "    }\n",
       "\n",
       "    .dataframe thead th {\n",
       "        text-align: right;\n",
       "    }\n",
       "</style>\n",
       "<table border=\"1\" class=\"dataframe\">\n",
       "  <thead>\n",
       "    <tr style=\"text-align: right;\">\n",
       "      <th></th>\n",
       "      <th>movie_id</th>\n",
       "      <th>title</th>\n",
       "      <th>tags</th>\n",
       "    </tr>\n",
       "  </thead>\n",
       "  <tbody>\n",
       "    <tr>\n",
       "      <th>0</th>\n",
       "      <td>19995</td>\n",
       "      <td>Avatar</td>\n",
       "      <td>In the 22nd century, a paraplegic Marine be di...</td>\n",
       "    </tr>\n",
       "  </tbody>\n",
       "</table>\n",
       "</div>"
      ],
      "text/plain": [
       "   movie_id   title                                               tags\n",
       "0     19995  Avatar  In the 22nd century, a paraplegic Marine be di..."
      ]
     },
     "execution_count": 54,
     "metadata": {},
     "output_type": "execute_result"
    }
   ],
   "source": [
    "new_df[new_df['title']=='Avatar']"
   ]
  },
  {
   "cell_type": "code",
   "execution_count": 55,
   "metadata": {},
   "outputs": [
    {
     "data": {
      "text/plain": [
       "[(0, 1.0000000000000002),\n",
       " (1, 0.0727392967453308),\n",
       " (2, 0.051571062312939675),\n",
       " (3, 0.034179296351233165),\n",
       " (4, 0.31180478223116176),\n",
       " (5, 0.12274328238644315),\n",
       " (6, 0.024573659359149527),\n",
       " (7, 0.12487810821089254),\n",
       " (8, 0.03984095364447979),\n",
       " (9, 0.10832228060328025),\n",
       " (10, 0.1),\n",
       " (11, 0.06804138174397718),\n",
       " (12, 0.05735393346764045),\n",
       " (13, 0.026518576139191005),\n",
       " (14, 0.14569287935358965),\n",
       " (15, 0.05594542388644594),\n",
       " (16, 0.09622504486493764),\n",
       " (17, 0.11518245674418136),\n",
       " (18, 0.1301448015738384),\n",
       " (19, 0.06804138174397717),\n",
       " (20, 0.058925565098878974),\n",
       " (21, 0.07106690545187015),\n",
       " (22, 0.04233337566673017),\n",
       " (23, 0.05892556509887897),\n",
       " (24, 0.047673129462279626),\n",
       " (25, 0.055679425398421745),\n",
       " (26, 0.14852213144650117),\n",
       " (27, 0.18931004635463397),\n",
       " (28, 0.05634361698190111),\n",
       " (29, 0.041380294430118404),\n",
       " (30, 0.07671455149152696),\n",
       " (31, 0.14433756729740646),\n",
       " (32, 0.06759225880448438),\n",
       " (33, 0.06565321642986129),\n",
       " (34, 0.0),\n",
       " (35, 0.1336306209562122),\n",
       " (36, 0.14852213144650114),\n",
       " (37, 0.05391638660171921),\n",
       " (38, 0.06896715738353068),\n",
       " (39, 0.05050762722761054),\n",
       " (40, 0.035533452725935076),\n",
       " (41, 0.20473075621333142),\n",
       " (42, 0.0),\n",
       " (43, 0.07671455149152696),\n",
       " (44, 0.02188440547662043),\n",
       " (45, 0.07093804422989572),\n",
       " (46, 0.1650245904961124),\n",
       " (47, 0.3001225239993905),\n",
       " (48, 0.09284766908852593),\n",
       " (49, 0.03984095364447979),\n",
       " (50, 0.074535599249993),\n",
       " (51, 0.08794080883518106),\n",
       " (52, 0.2166666666666667),\n",
       " (53, 0.13155870289605442),\n",
       " (54, 0.022680460581325727),\n",
       " (55, 0.04737793696791344),\n",
       " (56, 0.249485066394583),\n",
       " (57, 0.07647191129018727),\n",
       " (58, 0.048564293117863214),\n",
       " (59, 0.04786387724118255),\n",
       " (60, 0.014506471329641488),\n",
       " (61, 0.22271770159368698),\n",
       " (62, 0.05716619504750295),\n",
       " (63, 0.08276058886023682),\n",
       " (64, 0.03513641844631533),\n",
       " (65, 0.044743737014268294),\n",
       " (66, 0.015748519708717802),\n",
       " (67, 0.19374606457303215),\n",
       " (68, 0.06666666666666668),\n",
       " (69, 0.044346007015849294),\n",
       " (70, 0.0898606443361987),\n",
       " (71, 0.09316949906249125),\n",
       " (72, 0.10206207261596577),\n",
       " (73, 0.020211302086361082),\n",
       " (74, 0.25043365167023557),\n",
       " (75, 0.0727392967453308),\n",
       " (76, 0.05330017908890261),\n",
       " (77, 0.020211302086361082),\n",
       " (78, 0.03237619541190881),\n",
       " (79, 0.04724555912615341),\n",
       " (80, 0.029988007195203358),\n",
       " (81, 0.07562376774775253),\n",
       " (82, 0.07188851546895896),\n",
       " (83, 0.23570226039551587),\n",
       " (84, 0.09401267913629438),\n",
       " (85, 0.0642824346533225),\n",
       " (86, 0.07647191129018727),\n",
       " (87, 0.16366341767699433),\n",
       " (88, 0.05050762722761054),\n",
       " (89, 0.048600986959983696),\n",
       " (90, 0.03874921291460643),\n",
       " (91, 0.21312067103033536),\n",
       " (92, 0.044901325506693734),\n",
       " (93, 0.046829290579084706),\n",
       " (94, 0.25),\n",
       " (95, 0.25943726083138546),\n",
       " (96, 0.056613851707229795),\n",
       " (97, 0.07671455149152696),\n",
       " (98, 0.05212860351426869),\n",
       " (99, 0.014967108502231244),\n",
       " (100, 0.07372097807744858),\n",
       " (101, 0.13333333333333336),\n",
       " (102, 0.10078464965115869),\n",
       " (103, 0.07423923386456233),\n",
       " (104, 0.05000000000000001),\n",
       " (105, 0.07548513560963972),\n",
       " (106, 0.027777777777777783),\n",
       " (107, 0.10886621079036346),\n",
       " (108, 0.16037507477489607),\n",
       " (109, 0.061545745489666376),\n",
       " (110, 0.12958026383720403),\n",
       " (111, 0.13382584475782772),\n",
       " (112, 0.09092412093166351),\n",
       " (113, 0.031219527052723135),\n",
       " (114, 0.02969569354582493),\n",
       " (115, 0.06666666666666668),\n",
       " (116, 0.035533452725935076),\n",
       " (117, 0.03237619541190881),\n",
       " (118, 0.010583343916682543),\n",
       " (119, 0.07106690545187015),\n",
       " (120, 0.0),\n",
       " (121, 0.05812381937190965),\n",
       " (122, 0.06454972243679027),\n",
       " (123, 0.08647908694379515),\n",
       " (124, 0.07737305757377161),\n",
       " (125, 0.06521864934374388),\n",
       " (126, 0.08018753738744804),\n",
       " (127, 0.14229426304616102),\n",
       " (128, 0.019920476822239894),\n",
       " (129, 0.08770580193070293),\n",
       " (130, 0.015342910298305394),\n",
       " (131, 0.07548513560963972),\n",
       " (132, 0.04029114820126902),\n",
       " (133, 0.05212860351426869),\n",
       " (134, 0.08333333333333333),\n",
       " (135, 0.0),\n",
       " (136, 0.015609763526361568),\n",
       " (137, 0.02345325149100973),\n",
       " (138, 0.12883678042065433),\n",
       " (139, 0.08208638021853407),\n",
       " (140, 0.030178582014172846),\n",
       " (141, 0.20515248496555458),\n",
       " (142, 0.05735393346764045),\n",
       " (143, 0.05675043538391658),\n",
       " (144, 0.0662964403479775),\n",
       " (145, 0.08600780775702335),\n",
       " (146, 0.054711013691551076),\n",
       " (147, 0.1166666666666667),\n",
       " (148, 0.041666666666666664),\n",
       " (149, 0.30323921743156135),\n",
       " (150, 0.2185964124462969),\n",
       " (151, 0.09687303228651607),\n",
       " (152, 0.056613851707229795),\n",
       " (153, 0.05675043538391658),\n",
       " (154, 0.04103049699311092),\n",
       " (155, 0.02686076546751268),\n",
       " (156, 0.16178755723235852),\n",
       " (157, 0.0668153104781061),\n",
       " (158, 0.2857738033247041),\n",
       " (159, 0.04103049699311092),\n",
       " (160, 0.08168300490163391),\n",
       " (161, 0.06454972243679027),\n",
       " (162, 0.06565321642986129),\n",
       " (163, 0.058470534620468625),\n",
       " (164, 0.055901699437494755),\n",
       " (165, 0.031497039417435604),\n",
       " (166, 0.09960238411119947),\n",
       " (167, 0.04376881095324086),\n",
       " (168, 0.17190354104313224),\n",
       " (169, 0.14744195615489716),\n",
       " (170, 0.08838834764831845),\n",
       " (171, 0.03874921291460643),\n",
       " (172, 0.12163340819996028),\n",
       " (173, 0.017010345435994296),\n",
       " (174, 0.1023234355858201),\n",
       " (175, 0.031497039417435604),\n",
       " (176, 0.014967108502231244),\n",
       " (177, 0.024573659359149527),\n",
       " (178, 0.017568209223157664),\n",
       " (179, 0.052704627669472995),\n",
       " (180, 0.013518451760896878),\n",
       " (181, 0.013608276348795433),\n",
       " (182, 0.0825122952480562),\n",
       " (183, 0.04969039949999533),\n",
       " (184, 0.30949223029508643),\n",
       " (185, 0.08784104611578832),\n",
       " (186, 0.04376881095324086),\n",
       " (187, 0.09435641951204965),\n",
       " (188, 0.04761904761904762),\n",
       " (189, 0.08111071056538127),\n",
       " (190, 0.0639137490706142),\n",
       " (191, 0.04526787302125927),\n",
       " (192, 0.08908708063747478),\n",
       " (193, 0.05986843400892498),\n",
       " (194, 0.015891043154093207),\n",
       " (195, 0.06063390625908324),\n",
       " (196, 0.07106690545187015),\n",
       " (197, 0.05892556509887897),\n",
       " (198, 0.03513641844631533),\n",
       " (199, 0.07905694150420949),\n",
       " (200, 0.13944333775567924),\n",
       " (201, 0.02151657414559676),\n",
       " (202, 0.020211302086361082),\n",
       " (203, 0.07548513560963972),\n",
       " (204, 0.028171808490950554),\n",
       " (205, 0.04233337566673017),\n",
       " (206, 0.09335200560186734),\n",
       " (207, 0.12950478164763524),\n",
       " (208, 0.158113883008419),\n",
       " (209, 0.03513641844631533),\n",
       " (210, 0.05802588531856595),\n",
       " (211, 0.046829290579084706),\n",
       " (212, 0.036084391824351615),\n",
       " (213, 0.06317483696490862),\n",
       " (214, 0.01650245904961124),\n",
       " (215, 0.11034745181364908),\n",
       " (216, 0.03774256780481986),\n",
       " (217, 0.08451542547285167),\n",
       " (218, 0.027036903521793755),\n",
       " (219, 0.04103049699311092),\n",
       " (220, 0.12436708454077278),\n",
       " (221, 0.03237619541190881),\n",
       " (222, 0.17407765595569785),\n",
       " (223, 0.15990053726670783),\n",
       " (224, 0.05802588531856595),\n",
       " (225, 0.03207501495497921),\n",
       " (226, 0.05812381937190965),\n",
       " (227, 0.052704627669472995),\n",
       " (228, 0.20292692584270036),\n",
       " (229, 0.11904761904761905),\n",
       " (230, 0.19062321291575587),\n",
       " (231, 0.0),\n",
       " (232, 0.1147078669352809),\n",
       " (233, 0.16178755723235855),\n",
       " (234, 0.05716619504750295),\n",
       " (235, 0.056613851707229795),\n",
       " (236, 0.22663336788336166),\n",
       " (237, 0.04233337566673017),\n",
       " (238, 0.07332355751067665),\n",
       " (239, 0.29574808742734293),\n",
       " (240, 0.031219527052723135),\n",
       " (241, 0.05391638660171921),\n",
       " (242, 0.05050762722761054),\n",
       " (243, 0.06429306248420497),\n",
       " (244, 0.05212860351426869),\n",
       " (245, 0.04454354031873739),\n",
       " (246, 0.10744306187005072),\n",
       " (247, 0.0),\n",
       " (248, 0.02797271194322297),\n",
       " (249, 0.13608276348795437),\n",
       " (250, 0.0),\n",
       " (251, 0.08111071056538127),\n",
       " (252, 0.015214515486254614),\n",
       " (253, 0.10411584125907071),\n",
       " (254, 0.05103103630798289),\n",
       " (255, 0.0),\n",
       " (256, 0.06063390625908324),\n",
       " (257, 0.047673129462279626),\n",
       " (258, 0.031219527052723135),\n",
       " (259, 0.040422604172722164),\n",
       " (260, 0.3030457633656632),\n",
       " (261, 0.043852900965351466),\n",
       " (262, 0.07737305757377161),\n",
       " (263, 0.05976143046671968),\n",
       " (264, 0.0),\n",
       " (265, 0.01840525434580776),\n",
       " (266, 0.06950480468569159),\n",
       " (267, 0.15061601901917732),\n",
       " (268, 0.030685820596610788),\n",
       " (269, 0.017568209223157664),\n",
       " (270, 0.20658356100321168),\n",
       " (271, 0.0898606443361987),\n",
       " (272, 0.019920476822239894),\n",
       " (273, 0.010540925533894598),\n",
       " (274, 0.05954913341754138),\n",
       " (275, 0.09820927516479827),\n",
       " (276, 0.03774256780481986),\n",
       " (277, 0.041959067914834454),\n",
       " (278, 0.3429971702850177),\n",
       " (279, 0.11023963796102461),\n",
       " (280, 0.0),\n",
       " (281, 0.026518576139191005),\n",
       " (282, 0.029462782549439483),\n",
       " (283, 0.0),\n",
       " (284, 0.013793431476706135),\n",
       " (285, 0.014187608845979145),\n",
       " (286, 0.039777864208786505),\n",
       " (287, 0.031782086308186415),\n",
       " (288, 0.0363696483726654),\n",
       " (289, 0.03300491809922248),\n",
       " (290, 0.0372677996249965),\n",
       " (291, 0.06475239082381762),\n",
       " (292, 0.0727392967453308),\n",
       " (293, 0.01840525434580776),\n",
       " (294, 0.10416666666666666),\n",
       " (295, 0.07362101738323104),\n",
       " (296, 0.03627381250550059),\n",
       " (297, 0.05939138709164986),\n",
       " (298, 0.0),\n",
       " (299, 0.03627381250550059),\n",
       " (300, 0.34655164004183603),\n",
       " (301, 0.14678414098799655),\n",
       " (302, 0.040422604172722164),\n",
       " (303, 0.016835875742536848),\n",
       " (304, 0.08291138969384851),\n",
       " (305, 0.34668762264076824),\n",
       " (306, 0.19050019050028577),\n",
       " (307, 0.08989331499509895),\n",
       " (308, 0.03681050869161552),\n",
       " (309, 0.04622501635210244),\n",
       " (310, 0.027116307227332024),\n",
       " (311, 0.1042572070285374),\n",
       " (312, 0.10314212462587935),\n",
       " (313, 0.0445435403187374),\n",
       " (314, 0.0),\n",
       " (315, 0.05976143046671968),\n",
       " (316, 0.02879561418604534),\n",
       " (317, 0.04811252243246882),\n",
       " (318, 0.0),\n",
       " (319, 0.050251890762960605),\n",
       " (320, 0.0920262717290388),\n",
       " (321, 0.0),\n",
       " (322, 0.2553769592276246),\n",
       " (323, 0.04536092116265145),\n",
       " (324, 0.017190354104313226),\n",
       " (325, 0.05521576303742328),\n",
       " (326, 0.03681050869161552),\n",
       " (327, 0.033671751485073696),\n",
       " (328, 0.0),\n",
       " (329, 0.0898606443361987),\n",
       " (330, 0.0920262717290388),\n",
       " (331, 0.058470534620468625),\n",
       " (332, 0.08595177052156613),\n",
       " (333, 0.08164965809277261),\n",
       " (334, 0.06804138174397718),\n",
       " (335, 0.03333333333333334),\n",
       " (336, 0.03333333333333334),\n",
       " (337, 0.08505172717997148),\n",
       " (338, 0.04536092116265145),\n",
       " (339, 0.05521576303742328),\n",
       " (340, 0.034752402342845795),\n",
       " (341, 0.09316949906249125),\n",
       " (342, 0.20664207128868398),\n",
       " (343, 0.012220592918446108),\n",
       " (344, 0.019374606457303215),\n",
       " (345, 0.016343011261515338),\n",
       " (346, 0.01797212886723974),\n",
       " (347, 0.0),\n",
       " (348, 0.04103049699311092),\n",
       " (349, 0.05330017908890261),\n",
       " (350, 0.03402069087198859),\n",
       " (351, 0.0),\n",
       " (352, 0.020211302086361082),\n",
       " (353, 0.053376051268362375),\n",
       " (354, 0.014085904245475277),\n",
       " (355, 0.035533452725935076),\n",
       " (356, 0.056613851707229795),\n",
       " (357, 0.0),\n",
       " (358, 0.040422604172722164),\n",
       " (359, 0.0222717701593687),\n",
       " (360, 0.07808688094430304),\n",
       " (361, 0.034752402342845795),\n",
       " (362, 0.11043152607484655),\n",
       " (363, 0.08638684255813601),\n",
       " (364, 0.015891043154093207),\n",
       " (365, 0.09790449180128039),\n",
       " (366, 0.034752402342845795),\n",
       " (367, 0.017568209223157664),\n",
       " (368, 0.08466675133346034),\n",
       " (369, 0.0736569563735987),\n",
       " (370, 0.07106690545187015),\n",
       " (371, 0.10206207261596578),\n",
       " (372, 0.07106690545187015),\n",
       " (373, 0.40147753427348315),\n",
       " (374, 0.026352313834736497),\n",
       " (375, 0.04351941398892446),\n",
       " (376, 0.03042903097250923),\n",
       " (377, 0.0),\n",
       " (378, 0.0),\n",
       " (379, 0.04600437062282362),\n",
       " (380, 0.03207501495497921),\n",
       " (381, 0.06537204504606135),\n",
       " (382, 0.0),\n",
       " (383, 0.029235267310234313),\n",
       " (384, 0.032686022523030676),\n",
       " (385, 0.03774256780481986),\n",
       " (386, 0.013793431476706135),\n",
       " (387, 0.014847846772912465),\n",
       " (388, 0.0),\n",
       " (389, 0.125),\n",
       " (390, 0.0181848241863327),\n",
       " (391, 0.06281486345370076),\n",
       " (392, 0.017766726362967538),\n",
       " (393, 0.016835875742536848),\n",
       " (394, 0.015609763526361568),\n",
       " (395, 0.03207501495497921),\n",
       " (396, 0.014187608845979145),\n",
       " (397, 0.03681050869161552),\n",
       " (398, 0.0),\n",
       " (399, 0.016188097705954405),\n",
       " (400, 0.07647191129018727),\n",
       " (401, 0.16366341767699433),\n",
       " (402, 0.030949223029508643),\n",
       " (403, 0.06672006408545297),\n",
       " (404, 0.11322770341445959),\n",
       " (405, 0.02837521769195829),\n",
       " (406, 0.01343038273375634),\n",
       " (407, 0.05634361698190111),\n",
       " (408, 0.020833333333333332),\n",
       " (409, 0.0),\n",
       " (410, 0.0551888482110435),\n",
       " (411, 0.05050762722761054),\n",
       " (412, 0.09534625892455924),\n",
       " (413, 0.10000000000000002),\n",
       " (414, 0.020211302086361082),\n",
       " (415, 0.05424537957534329),\n",
       " (416, 0.049507377148833714),\n",
       " (417, 0.02051524849655546),\n",
       " (418, 0.07537783614444091),\n",
       " (419, 0.10926834468453098),\n",
       " (420, 0.09722222222222224),\n",
       " (421, 0.0),\n",
       " (422, 0.09558988911273408),\n",
       " (423, 0.06666666666666668),\n",
       " (424, 0.026688025634181187),\n",
       " (425, 0.052057920629535355),\n",
       " (426, 0.049147318718299055),\n",
       " (427, 0.01863389981249825),\n",
       " (428, 0.04600437062282362),\n",
       " (429, 0.0),\n",
       " (430, 0.13470397652008118),\n",
       " (431, 0.015891043154093207),\n",
       " (432, 0.2466100126039053),\n",
       " (433, 0.020833333333333332),\n",
       " (434, 0.0),\n",
       " (435, 0.023570226039551587),\n",
       " (436, 0.0),\n",
       " (437, 0.01887128390240993),\n",
       " (438, 0.0372677996249965),\n",
       " (439, 0.05521576303742328),\n",
       " (440, 0.016835875742536848),\n",
       " (441, 0.019920476822239894),\n",
       " (442, 0.02686076546751268),\n",
       " (443, 0.061371641193221575),\n",
       " (444, 0.0),\n",
       " (445, 0.06537204504606135),\n",
       " (446, 0.048112522432468816),\n",
       " (447, 0.030685820596610788),\n",
       " (448, 0.09365858115816941),\n",
       " (449, 0.08084520834544433),\n",
       " (450, 0.03237619541190881),\n",
       " (451, 0.015342910298305394),\n",
       " (452, 0.012782749814122842),\n",
       " (453, 0.016343011261515338),\n",
       " (454, 0.19457241052900615),\n",
       " (455, 0.033671751485073696),\n",
       " (456, 0.15384991568772632),\n",
       " (457, 0.05812381937190965),\n",
       " (458, 0.032686022523030676),\n",
       " (459, 0.10583343916682542),\n",
       " (460, 0.051571062312939675),\n",
       " (461, 0.32936830977415466),\n",
       " (462, 0.10606601717798214),\n",
       " (463, 0.06350006350009525),\n",
       " (464, 0.0),\n",
       " (465, 0.0),\n",
       " (466, 0.2165063509461097),\n",
       " (467, 0.07804881763180783),\n",
       " (468, 0.01797212886723974),\n",
       " (469, 0.08512565307587487),\n",
       " (470, 0.05212860351426869),\n",
       " (471, 0.05103103630798289),\n",
       " (472, 0.09092412093166351),\n",
       " (473, 0.10206207261596577),\n",
       " (474, 0.0),\n",
       " (475, 0.0736569563735987),\n",
       " (476, 0.09428090415820635),\n",
       " (477, 0.0),\n",
       " (478, 0.058345003501167086),\n",
       " (479, 0.06429306248420497),\n",
       " (480, 0.1650245904961124),\n",
       " (481, 0.015891043154093207),\n",
       " (482, 0.017568209223157664),\n",
       " (483, 0.14147911460452758),\n",
       " (484, 0.04536092116265145),\n",
       " (485, 0.03207501495497921),\n",
       " (486, 0.04737793696791344),\n",
       " (487, 0.09829463743659811),\n",
       " (488, 0.05952380952380953),\n",
       " (489, 0.0),\n",
       " (490, 0.12028130608117206),\n",
       " (491, 0.09166199015381173),\n",
       " (492, 0.0907218423253029),\n",
       " (493, 0.025269934785963448),\n",
       " (494, 0.0),\n",
       " (495, 0.13130643285972257),\n",
       " (496, 0.0),\n",
       " (497, 0.0),\n",
       " (498, 0.06350006350009525),\n",
       " (499, 0.0),\n",
       " (500, 0.01650245904961124),\n",
       " (501, 0.04969039949999533),\n",
       " (502, 0.24476272058138537),\n",
       " (503, 0.05000000000000001),\n",
       " (504, 0.0),\n",
       " (505, 0.1336306209562122),\n",
       " (506, 0.06804138174397718),\n",
       " (507, 0.31687511114881484),\n",
       " (508, 0.06415002990995843),\n",
       " (509, 0.017010345435994296),\n",
       " (510, 0.07106690545187015),\n",
       " (511, 0.06063390625908324),\n",
       " (512, 0.07106690545187015),\n",
       " (513, 0.06415002990995843),\n",
       " (514, 0.02797271194322297),\n",
       " (515, 0.03402069087198859),\n",
       " (516, 0.015609763526361568),\n",
       " (517, 0.04166666666666667),\n",
       " (518, 0.055901699437494755),\n",
       " (519, 0.0),\n",
       " (520, 0.0),\n",
       " (521, 0.014506471329641488),\n",
       " (522, 0.0),\n",
       " (523, 0.03438070820862645),\n",
       " (524, 0.10660035817780524),\n",
       " (525, 0.048564293117863214),\n",
       " (526, 0.031219527052723135),\n",
       " (527, 0.01840525434580776),\n",
       " (528, 0.014617633655117156),\n",
       " (529, 0.15471318693881905),\n",
       " (530, 0.06933752452815366),\n",
       " (531, 0.10004084133313015),\n",
       " (532, 0.07562376774775252),\n",
       " (533, 0.04536092116265145),\n",
       " (534, 0.08838834764831845),\n",
       " (535, 0.09712858623572643),\n",
       " (536, 0.10832228060328025),\n",
       " (537, 0.04811252243246882),\n",
       " (538, 0.0),\n",
       " (539, 0.2829582292090551),\n",
       " (540, 0.05330017908890261),\n",
       " (541, 0.26956456807360374),\n",
       " (542, 0.025416428388767447),\n",
       " (543, 0.05103103630798289),\n",
       " (544, 0.034752402342845795),\n",
       " (545, 0.03333333333333334),\n",
       " (546, 0.0445435403187374),\n",
       " (547, 0.05812381937190965),\n",
       " (548, 0.015609763526361568),\n",
       " (549, 0.2301436544745809),\n",
       " (550, 0.01666666666666667),\n",
       " (551, 0.02686076546751268),\n",
       " (552, 0.0),\n",
       " (553, 0.019641855032959656),\n",
       " (554, 0.0),\n",
       " (555, 0.032969023669789356),\n",
       " (556, 0.0898606443361987),\n",
       " (557, 0.21886638465297903),\n",
       " (558, 0.03823595564509363),\n",
       " (559, 0.04376881095324086),\n",
       " (560, 0.023338001400466834),\n",
       " (561, 0.041666666666666664),\n",
       " (562, 0.019920476822239894),\n",
       " (563, 0.017010345435994296),\n",
       " (564, 0.16331864497962195),\n",
       " (565, 0.02837521769195829),\n",
       " (566, 0.013259288069595502),\n",
       " (567, 0.01840525434580776),\n",
       " (568, 0.1203324787301926),\n",
       " (569, 0.048112522432468816),\n",
       " (570, 0.04536092116265145),\n",
       " (571, 0.11180339887498951),\n",
       " (572, 0.05517372590682454),\n",
       " (573, 0.01293584209510555),\n",
       " (574, 0.015089291007086423),\n",
       " (575, 0.034752402342845795),\n",
       " (576, 0.052704627669472995),\n",
       " (577, 0.2294157338705618),\n",
       " (578, 0.031782086308186415),\n",
       " (579, 0.18519463316790533),\n",
       " (580, 0.014731391274719742),\n",
       " (581, 0.2461829819586655),\n",
       " (582, 0.28203803740888317),\n",
       " (583, 0.04454354031873739),\n",
       " (584, 0.029462782549439483),\n",
       " (585, 0.09805806756909204),\n",
       " (586, 0.10540925533894599),\n",
       " (587, 0.11973686801784997),\n",
       " (588, 0.01887128390240993),\n",
       " (589, 0.14085904245475278),\n",
       " (590, 0.02151657414559676),\n",
       " (591, 0.07671455149152696),\n",
       " (592, 0.1216660658480719),\n",
       " (593, 0.03042903097250923),\n",
       " (594, 0.030949223029508643),\n",
       " (595, 0.20473075621333142),\n",
       " (596, 0.06085806194501846),\n",
       " (597, 0.031497039417435604),\n",
       " (598, 0.050251890762960605),\n",
       " (599, 0.1296407447104329),\n",
       " (600, 0.05000000000000001),\n",
       " (601, 0.036084391824351615),\n",
       " (602, 0.061371641193221575),\n",
       " (603, 0.0363696483726654),\n",
       " (604, 0.04303314829119352),\n",
       " (605, 0.01797212886723974),\n",
       " (606, 0.02431083191631576),\n",
       " (607, 0.06944444444444445),\n",
       " (608, 0.0),\n",
       " (609, 0.014085904245475277),\n",
       " (610, 0.07955572841757301),\n",
       " (611, 0.04602873089491618),\n",
       " (612, 0.06243905410544627),\n",
       " (613, 0.02188440547662043),\n",
       " (614, 0.032686022523030676),\n",
       " (615, 0.031219527052723135),\n",
       " (616, 0.020833333333333332),\n",
       " (617, 0.1555576010338433),\n",
       " (618, 0.08276058886023682),\n",
       " (619, 0.0),\n",
       " (620, 0.0),\n",
       " (621, 0.05330017908890261),\n",
       " (622, 0.014291548761875737),\n",
       " (623, 0.015609763526361568),\n",
       " (624, 0.12309149097933275),\n",
       " (625, 0.05212860351426869),\n",
       " (626, 0.18519463316790533),\n",
       " (627, 0.0898606443361987),\n",
       " (628, 0.15075567228888184),\n",
       " (629, 0.02993421700446249),\n",
       " (630, 0.033671751485073696),\n",
       " (631, 0.02380952380952381),\n",
       " (632, 0.09092412093166351),\n",
       " (633, 0.1074430618700507),\n",
       " (634, 0.05212860351426869),\n",
       " (635, 0.10004084133313015),\n",
       " (636, 0.01650245904961124),\n",
       " (637, 0.051571062312939675),\n",
       " (638, 0.04376881095324086),\n",
       " (639, 0.0),\n",
       " (640, 0.049507377148833714),\n",
       " (641, 0.0),\n",
       " (642, 0.15609763526361567),\n",
       " (643, 0.20412414523193154),\n",
       " (644, 0.035533452725935076),\n",
       " (645, 0.02837521769195829),\n",
       " (646, 0.051571062312939675),\n",
       " (647, 0.05759122837209068),\n",
       " (648, 0.017766726362967538),\n",
       " (649, 0.0),\n",
       " (650, 0.03237619541190881),\n",
       " (651, 0.0),\n",
       " (652, 0.012708214194383723),\n",
       " (653, 0.08206099398622184),\n",
       " (654, 0.060777079790789404),\n",
       " (655, 0.049507377148833714),\n",
       " (656, 0.016343011261515338),\n",
       " (657, 0.03434014098717226),\n",
       " (658, 0.02879561418604534),\n",
       " (659, 0.015214515486254614),\n",
       " (660, 0.11340230290662863),\n",
       " (661, 0.2837521769195829),\n",
       " (662, 0.0),\n",
       " (663, 0.0),\n",
       " (664, 0.04303314829119352),\n",
       " (665, 0.046423834544262965),\n",
       " (666, 0.10660035817780522),\n",
       " (667, 0.0),\n",
       " (668, 0.06350006350009525),\n",
       " (669, 0.022680460581325727),\n",
       " (670, 0.06274558051381587),\n",
       " (671, 0.04724555912615341),\n",
       " (672, 0.03513641844631533),\n",
       " (673, 0.013518451760896878),\n",
       " (674, 0.06734350297014739),\n",
       " (675, 0.025416428388767447),\n",
       " (676, 0.015089291007086423),\n",
       " (677, 0.08512565307587487),\n",
       " (678, 0.04376881095324086),\n",
       " (679, 0.0),\n",
       " (680, 0.17323371679589583),\n",
       " (681, 0.03874921291460643),\n",
       " (682, 0.014967108502231244),\n",
       " (683, 0.03237619541190881),\n",
       " (684, 0.04103049699311092),\n",
       " (685, 0.020833333333333332),\n",
       " (686, 0.020211302086361082),\n",
       " (687, 0.11180339887498951),\n",
       " (688, 0.044901325506693734),\n",
       " (689, 0.0),\n",
       " (690, 0.025717224993681988),\n",
       " (691, 0.06600983619844496),\n",
       " (692, 0.2524133951395119),\n",
       " (693, 0.0),\n",
       " (694, 0.026028960314767677),\n",
       " (695, 0.034752402342845795),\n",
       " (696, 0.013699915608779777),\n",
       " (697, 0.0),\n",
       " (698, 0.015609763526361568),\n",
       " (699, 0.0),\n",
       " (700, 0.016835875742536848),\n",
       " (701, 0.0625),\n",
       " (702, 0.012708214194383723),\n",
       " (703, 0.013259288069595502),\n",
       " (704, 0.10101525445522108),\n",
       " (705, 0.015474611514754322),\n",
       " (706, 0.017010345435994296),\n",
       " (707, 0.0),\n",
       " (708, 0.017376201171422898),\n",
       " (709, 0.029012942659282975),\n",
       " (710, 0.05634361698190111),\n",
       " (711, 0.03928371006591931),\n",
       " (712, 0.0),\n",
       " (713, 0.043852900965351466),\n",
       " (714, 0.0),\n",
       " (715, 0.07071067811865477),\n",
       " (716, 0.02151657414559676),\n",
       " (717, 0.0),\n",
       " (718, 0.027036903521793755),\n",
       " (719, 0.0),\n",
       " (720, 0.016835875742536848),\n",
       " (721, 0.020211302086361082),\n",
       " (722, 0.0),\n",
       " (723, 0.017190354104313226),\n",
       " (724, 0.03333333333333334),\n",
       " (725, 0.0),\n",
       " (726, 0.0),\n",
       " (727, 0.036084391824351615),\n",
       " (728, 0.078742598543589),\n",
       " (729, 0.020211302086361082),\n",
       " (730, 0.020833333333333332),\n",
       " (731, 0.07548513560963972),\n",
       " (732, 0.05391638660171921),\n",
       " (733, 0.047673129462279626),\n",
       " (734, 0.03237619541190881),\n",
       " (735, 0.030685820596610788),\n",
       " (736, 0.02051524849655546),\n",
       " (737, 0.051571062312939675),\n",
       " (738, 0.0),\n",
       " (739, 0.02311250817605122),\n",
       " (740, 0.13258252147247768),\n",
       " (741, 0.03594425773447948),\n",
       " (742, 0.02151657414559676),\n",
       " (743, 0.030685820596610788),\n",
       " (744, 0.09558988911273408),\n",
       " (745, 0.03513641844631533),\n",
       " (746, 0.07027283689263066),\n",
       " (747, 0.030949223029508643),\n",
       " (748, 0.03928371006591931),\n",
       " (749, 0.0),\n",
       " (750, 0.03207501495497921),\n",
       " (751, 0.022680460581325727),\n",
       " (752, 0.0825122952480562),\n",
       " (753, 0.019374606457303215),\n",
       " (754, 0.22247460415730488),\n",
       " (755, 0.1224744871391589),\n",
       " (756, 0.02051524849655546),\n",
       " (757, 0.01343038273375634),\n",
       " (758, 0.016343011261515338),\n",
       " (759, 0.013888888888888892),\n",
       " (760, 0.0),\n",
       " (761, 0.020211302086361082),\n",
       " (762, 0.03681050869161552),\n",
       " (763, 0.0),\n",
       " (764, 0.09435641951204965),\n",
       " (765, 0.02837521769195829),\n",
       " (766, 0.016835875742536848),\n",
       " (767, 0.03042903097250923),\n",
       " (768, 0.09655402033694294),\n",
       " (769, 0.0445435403187374),\n",
       " (770, 0.2344883351040043),\n",
       " (771, 0.0),\n",
       " (772, 0.0),\n",
       " (773, 0.21166687833365083),\n",
       " (774, 0.029462782549439483),\n",
       " (775, 0.056613851707229795),\n",
       " (776, 0.05892556509887897),\n",
       " (777, 0.10832228060328025),\n",
       " (778, 0.2809757434745082),\n",
       " (779, 0.0),\n",
       " (780, 0.0),\n",
       " (781, 0.08206099398622183),\n",
       " (782, 0.05050762722761054),\n",
       " (783, 0.01863389981249825),\n",
       " (784, 0.10476975951561872),\n",
       " (785, 0.11858541225631423),\n",
       " (786, 0.06950480468569159),\n",
       " (787, 0.19310804067388587),\n",
       " (788, 0.046829290579084706),\n",
       " (789, 0.0),\n",
       " (790, 0.12598815766974242),\n",
       " (791, 0.06454972243679027),\n",
       " (792, 0.03513641844631533),\n",
       " (793, 0.0727392967453308),\n",
       " (794, 0.10740037208813775),\n",
       " (795, 0.06944444444444446),\n",
       " (796, 0.024573659359149527),\n",
       " (797, 0.0),\n",
       " (798, 0.0),\n",
       " (799, 0.06211299937499416),\n",
       " (800, 0.15499685165842572),\n",
       " (801, 0.0),\n",
       " (802, 0.0),\n",
       " (803, 0.03402069087198859),\n",
       " (804, 0.03402069087198859),\n",
       " (805, 0.03333333333333334),\n",
       " (806, 0.058925565098878974),\n",
       " (807, 0.05521576303742328),\n",
       " (808, 0.09428090415820635),\n",
       " (809, 0.09655402033694295),\n",
       " (810, 0.01797212886723974),\n",
       " (811, 0.015474611514754322),\n",
       " (812, 0.10606601717798214),\n",
       " (813, 0.10476975951561872),\n",
       " (814, 0.06666666666666668),\n",
       " (815, 0.027777777777777783),\n",
       " (816, 0.03207501495497921),\n",
       " (817, 0.017568209223157664),\n",
       " (818, 0.012858612496840994),\n",
       " (819, 0.0),\n",
       " (820, 0.01155625408802561),\n",
       " (821, 0.022576182049286547),\n",
       " (822, 0.0372677996249965),\n",
       " (823, 0.09712858623572643),\n",
       " (824, 0.0),\n",
       " (825, 0.0),\n",
       " (826, 0.021166687833365085),\n",
       " (827, 0.06085806194501846),\n",
       " (828, 0.017010345435994296),\n",
       " (829, 0.0),\n",
       " (830, 0.0181848241863327),\n",
       " (831, 0.06950480468569159),\n",
       " (832, 0.019117977822546817),\n",
       " (833, 0.08417937871268424),\n",
       " (834, 0.028583097523751475),\n",
       " (835, 0.016835875742536848),\n",
       " (836, 0.05716619504750295),\n",
       " (837, 0.03984095364447979),\n",
       " (838, 0.3969283100678678),\n",
       " (839, 0.02151657414559676),\n",
       " (840, 0.03402069087198859),\n",
       " (841, 0.016037507477489606),\n",
       " (842, 0.01439780709302267),\n",
       " (843, 0.15471318693881903),\n",
       " (844, 0.0825122952480562),\n",
       " (845, 0.0),\n",
       " (846, 0.013793431476706135),\n",
       " (847, 0.0363696483726654),\n",
       " (848, 0.05372153093502536),\n",
       " (849, 0.035533452725935076),\n",
       " (850, 0.04811252243246882),\n",
       " (851, 0.0),\n",
       " (852, 0.038575837490522985),\n",
       " (853, 0.0920262717290388),\n",
       " (854, 0.09622504486493764),\n",
       " (855, 0.1767766952966369),\n",
       " (856, 0.015342910298305394),\n",
       " (857, 0.0),\n",
       " (858, 0.02405626121623441),\n",
       " (859, 0.06734350297014739),\n",
       " (860, 0.02247332874877474),\n",
       " (861, 0.05407380704358751),\n",
       " (862, 0.07737305757377161),\n",
       " (863, 0.01863389981249825),\n",
       " (864, 0.025565499628245683),\n",
       " (865, 0.0),\n",
       " (866, 0.05716619504750295),\n",
       " (867, 0.0),\n",
       " (868, 0.05939138709164986),\n",
       " (869, 0.04303314829119352),\n",
       " (870, 0.11973686801784995),\n",
       " (871, 0.055901699437494755),\n",
       " (872, 0.03402069087198859),\n",
       " (873, 0.028583097523751475),\n",
       " (874, 0.03207501495497921),\n",
       " (875, 0.06666666666666668),\n",
       " (876, 0.0),\n",
       " (877, 0.0),\n",
       " (878, 0.10583343916682543),\n",
       " (879, 0.0),\n",
       " (880, 0.0222717701593687),\n",
       " (881, 0.0),\n",
       " (882, 0.0372677996249965),\n",
       " (883, 0.016037507477489606),\n",
       " (884, 0.012562972690740151),\n",
       " (885, 0.06189844605901729),\n",
       " (886, 0.014187608845979145),\n",
       " (887, 0.04862166383263152),\n",
       " (888, 0.03402069087198859),\n",
       " (889, 0.18463723646899916),\n",
       " (890, 0.017568209223157664),\n",
       " (891, 0.03042903097250923),\n",
       " (892, 0.0),\n",
       " (893, 0.040555355282690636),\n",
       " (894, 0.07749842582921286),\n",
       " (895, 0.02051524849655546),\n",
       " (896, 0.0),\n",
       " (897, 0.1143323900950059),\n",
       " (898, 0.08784104611578832),\n",
       " (899, 0.054554472558998104),\n",
       " (900, 0.06950480468569159),\n",
       " (901, 0.05521576303742328),\n",
       " (902, 0.017190354104313226),\n",
       " (903, 0.03237619541190881),\n",
       " (904, 0.014847846772912465),\n",
       " (905, 0.0),\n",
       " (906, 0.0),\n",
       " (907, 0.028583097523751475),\n",
       " (908, 0.06734350297014739),\n",
       " (909, 0.0),\n",
       " (910, 0.04526787302125927),\n",
       " (911, 0.015214515486254614),\n",
       " (912, 0.0445435403187374),\n",
       " (913, 0.0),\n",
       " (914, 0.02151657414559676),\n",
       " (915, 0.03300491809922248),\n",
       " (916, 0.0),\n",
       " (917, 0.0181848241863327),\n",
       " (918, 0.014967108502231244),\n",
       " (919, 0.016835875742536848),\n",
       " (920, 0.06804138174397718),\n",
       " (921, 0.0),\n",
       " (922, 0.055901699437494755),\n",
       " (923, 0.0),\n",
       " (924, 0.019641855032959656),\n",
       " (925, 0.013888888888888892),\n",
       " (926, 0.0),\n",
       " (927, 0.0),\n",
       " (928, 0.0),\n",
       " (929, 0.03513641844631533),\n",
       " (930, 0.031782086308186415),\n",
       " (931, 0.15936381457791915),\n",
       " (932, 0.028583097523751475),\n",
       " (933, 0.07093804422989572),\n",
       " (934, 0.019117977822546817),\n",
       " (935, 0.0890870806374748),\n",
       " (936, 0.0),\n",
       " (937, 0.03790490217894517),\n",
       " (938, 0.017568209223157664),\n",
       " (939, 0.13589570805453524),\n",
       " (940, 0.04319342127906801),\n",
       " (941, 0.07188851546895896),\n",
       " (942, 0.17206180040292135),\n",
       " (943, 0.0),\n",
       " (944, 0.0),\n",
       " (945, 0.07106690545187015),\n",
       " (946, 0.015089291007086423),\n",
       " (947, 0.0),\n",
       " (948, 0.0),\n",
       " (949, 0.0),\n",
       " (950, 0.026189140043946207),\n",
       " (951, 0.06565321642986129),\n",
       " (952, 0.014291548761875737),\n",
       " (953, 0.014967108502231244),\n",
       " (954, 0.0),\n",
       " (955, 0.017010345435994296),\n",
       " (956, 0.03438070820862645),\n",
       " (957, 0.02151657414559676),\n",
       " (958, 0.017766726362967538),\n",
       " (959, 0.0181848241863327),\n",
       " (960, 0.0625),\n",
       " (961, 0.06804138174397718),\n",
       " (962, 0.030685820596610788),\n",
       " (963, 0.048112522432468816),\n",
       " (964, 0.04103049699311092),\n",
       " (965, 0.0),\n",
       " (966, 0.0),\n",
       " (967, 0.026352313834736497),\n",
       " (968, 0.0),\n",
       " (969, 0.04166666666666667),\n",
       " (970, 0.024573659359149527),\n",
       " (971, 0.047140452079103175),\n",
       " (972, 0.2750456656690116),\n",
       " (973, 0.26666666666666666),\n",
       " (974, 0.016625155601793885),\n",
       " (975, 0.016343011261515338),\n",
       " (976, 0.01666666666666667),\n",
       " (977, 0.0),\n",
       " (978, 0.0),\n",
       " (979, 0.06035716402834569),\n",
       " (980, 0.09558988911273408),\n",
       " (981, 0.02993421700446249),\n",
       " (982, 0.08908708063747478),\n",
       " (983, 0.0),\n",
       " (984, 0.04303314829119352),\n",
       " (985, 0.011612216904860296),\n",
       " (986, 0.0),\n",
       " (987, 0.05735393346764045),\n",
       " (988, 0.0825122952480562),\n",
       " (989, 0.041666666666666664),\n",
       " (990, 0.0),\n",
       " (991, 0.022680460581325727),\n",
       " (992, 0.031219527052723135),\n",
       " (993, 0.03984095364447979),\n",
       " (994, 0.0),\n",
       " (995, 0.02405626121623441),\n",
       " (996, 0.03874921291460643),\n",
       " (997, 0.09281501648716851),\n",
       " (998, 0.07027283689263066),\n",
       " (999, 0.0),\n",
       " ...]"
      ]
     },
     "execution_count": 55,
     "metadata": {},
     "output_type": "execute_result"
    }
   ],
   "source": [
    "list(enumerate(similarity[0]))"
   ]
  },
  {
   "cell_type": "markdown",
   "metadata": {},
   "source": [
    "Sort the similarity array to get top 6 similiar Movie indexs"
   ]
  },
  {
   "cell_type": "code",
   "execution_count": 56,
   "metadata": {},
   "outputs": [
    {
     "data": {
      "text/plain": [
       "[(0, 1.0000000000000002),\n",
       " (2409, 0.44876373392787533),\n",
       " (4336, 0.43058755641446156),\n",
       " (373, 0.40147753427348315),\n",
       " (838, 0.3969283100678678),\n",
       " (1537, 0.3931785497463925)]"
      ]
     },
     "execution_count": 56,
     "metadata": {},
     "output_type": "execute_result"
    }
   ],
   "source": [
    "sorted(list(enumerate(similarity[0])),reverse=True,key=lambda x:x[1])[:6]"
   ]
  },
  {
   "cell_type": "markdown",
   "metadata": {},
   "source": [
    "Created a Recommend function that will recommend movie based on Movie title"
   ]
  },
  {
   "cell_type": "code",
   "execution_count": 57,
   "metadata": {},
   "outputs": [
    {
     "name": "stdout",
     "output_type": "stream",
     "text": [
      "Aliens\n",
      "Silent Running\n",
      "Mission to Mars\n",
      "Alien³\n",
      "Moonraker\n"
     ]
    }
   ],
   "source": [
    "def recommend(movie,new_df):\n",
    "    movie_index=new_df[new_df['title']==movie].index[0]\n",
    "    distance=similarity[movie_index]\n",
    "    movies_list=sorted(list(enumerate(distance)),reverse=True,key=lambda x:x[1])[1:6]\n",
    "    \n",
    "    for i in movies_list:\n",
    "        # print(new_df.iloc[i[0]].movie_id,)\n",
    "        print(new_df.iloc[i[0]].title)\n",
    "recommend('Avatar',new_df)"
   ]
  },
  {
   "cell_type": "code",
   "execution_count": 58,
   "metadata": {},
   "outputs": [
    {
     "name": "stdout",
     "output_type": "stream",
     "text": [
      "Superman II\n",
      "Superman Returns\n",
      "Man of Steel\n",
      "Superman III\n",
      "Superman IV: The Quest for Peace\n"
     ]
    }
   ],
   "source": [
    "recommend('Superman',new_df)"
   ]
  },
  {
   "cell_type": "code",
   "execution_count": 59,
   "metadata": {},
   "outputs": [
    {
     "data": {
      "text/html": [
       "<div>\n",
       "<style scoped>\n",
       "    .dataframe tbody tr th:only-of-type {\n",
       "        vertical-align: middle;\n",
       "    }\n",
       "\n",
       "    .dataframe tbody tr th {\n",
       "        vertical-align: top;\n",
       "    }\n",
       "\n",
       "    .dataframe thead th {\n",
       "        text-align: right;\n",
       "    }\n",
       "</style>\n",
       "<table border=\"1\" class=\"dataframe\">\n",
       "  <thead>\n",
       "    <tr style=\"text-align: right;\">\n",
       "      <th></th>\n",
       "      <th>movie_id</th>\n",
       "      <th>title</th>\n",
       "      <th>tags</th>\n",
       "    </tr>\n",
       "  </thead>\n",
       "  <tbody>\n",
       "    <tr>\n",
       "      <th>0</th>\n",
       "      <td>19995</td>\n",
       "      <td>Avatar</td>\n",
       "      <td>In the 22nd century, a paraplegic Marine be di...</td>\n",
       "    </tr>\n",
       "    <tr>\n",
       "      <th>1</th>\n",
       "      <td>285</td>\n",
       "      <td>Pirates of the Caribbean: At World's End</td>\n",
       "      <td>Captain Barbossa, long believe to be dead, hav...</td>\n",
       "    </tr>\n",
       "    <tr>\n",
       "      <th>2</th>\n",
       "      <td>206647</td>\n",
       "      <td>Spectre</td>\n",
       "      <td>A cryptic message from Bond’s past send him on...</td>\n",
       "    </tr>\n",
       "    <tr>\n",
       "      <th>3</th>\n",
       "      <td>49026</td>\n",
       "      <td>The Dark Knight Rises</td>\n",
       "      <td>Following the death of District Attorney Harve...</td>\n",
       "    </tr>\n",
       "    <tr>\n",
       "      <th>4</th>\n",
       "      <td>49529</td>\n",
       "      <td>John Carter</td>\n",
       "      <td>John Carter be a war-weary, former military ca...</td>\n",
       "    </tr>\n",
       "  </tbody>\n",
       "</table>\n",
       "</div>"
      ],
      "text/plain": [
       "   movie_id                                     title  \\\n",
       "0     19995                                    Avatar   \n",
       "1       285  Pirates of the Caribbean: At World's End   \n",
       "2    206647                                   Spectre   \n",
       "3     49026                     The Dark Knight Rises   \n",
       "4     49529                               John Carter   \n",
       "\n",
       "                                                tags  \n",
       "0  In the 22nd century, a paraplegic Marine be di...  \n",
       "1  Captain Barbossa, long believe to be dead, hav...  \n",
       "2  A cryptic message from Bond’s past send him on...  \n",
       "3  Following the death of District Attorney Harve...  \n",
       "4  John Carter be a war-weary, former military ca...  "
      ]
     },
     "execution_count": 59,
     "metadata": {},
     "output_type": "execute_result"
    }
   ],
   "source": [
    "new_df.head()"
   ]
  },
  {
   "cell_type": "markdown",
   "metadata": {},
   "source": [
    "Saving Our New df for Later"
   ]
  },
  {
   "cell_type": "code",
   "execution_count": 60,
   "metadata": {},
   "outputs": [],
   "source": [
    "import pickle\n",
    "pickle.dump(new_df,open('movies.pkl','wb'))"
   ]
  },
  {
   "cell_type": "code",
   "execution_count": 61,
   "metadata": {},
   "outputs": [],
   "source": [
    "new_df.to_excel('movies.xlsx',index=False)"
   ]
  },
  {
   "cell_type": "markdown",
   "metadata": {},
   "source": [
    "Save the Similarity array for Later use to calculater similarity."
   ]
  },
  {
   "cell_type": "code",
   "execution_count": 62,
   "metadata": {},
   "outputs": [],
   "source": [
    "pickle.dump(similarity,open('similarity.pkl','wb'))"
   ]
  }
 ],
 "metadata": {
  "kernelspec": {
   "display_name": "base",
   "language": "python",
   "name": "python3"
  },
  "language_info": {
   "codemirror_mode": {
    "name": "ipython",
    "version": 3
   },
   "file_extension": ".py",
   "mimetype": "text/x-python",
   "name": "python",
   "nbconvert_exporter": "python",
   "pygments_lexer": "ipython3",
   "version": "3.9.18"
  }
 },
 "nbformat": 4,
 "nbformat_minor": 2
}
